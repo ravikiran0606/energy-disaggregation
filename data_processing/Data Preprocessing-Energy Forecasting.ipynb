{
 "cells": [
  {
   "cell_type": "code",
   "execution_count": 76,
   "id": "macro-alcohol",
   "metadata": {},
   "outputs": [],
   "source": [
    "import numpy as np\n",
    "import pandas as pd\n",
    "import matplotlib.pyplot as plt\n",
    "%matplotlib inline\n",
    "from IPython.display import display\n",
    "import datetime\n",
    "from datetime import timedelta\n",
    "import time\n",
    "import math\n",
    "import warnings\n",
    "import os\n",
    "warnings.filterwarnings(\"ignore\")\n",
    "import glob\n",
    "import traces\n",
    "import json\n",
    "from tqdm import tqdm"
   ]
  },
  {
   "cell_type": "code",
   "execution_count": null,
   "id": "unlike-peripheral",
   "metadata": {},
   "outputs": [],
   "source": []
  },
  {
   "cell_type": "markdown",
   "id": "formed-providence",
   "metadata": {},
   "source": [
    "# REDD:"
   ]
  },
  {
   "cell_type": "code",
   "execution_count": 77,
   "id": "electoral-papua",
   "metadata": {},
   "outputs": [],
   "source": [
    "base_path = \"../data/redd/low_freq/\"\n",
    "applicance_list = [\"dishwaser\", \"refrigerator\"]"
   ]
  },
  {
   "cell_type": "code",
   "execution_count": 78,
   "id": "photographic-disco",
   "metadata": {},
   "outputs": [],
   "source": [
    "# Read the labels & create the label map\n",
    "def read_label(base_path):\n",
    "    label = {}\n",
    "    for h_idx in range(1, 7):\n",
    "        h_path = os.path.join(base_path, \"house_{}/labels.dat\".format(h_idx))\n",
    "        label[h_idx] = {}\n",
    "        with open(h_path) as f:\n",
    "            for line in f:\n",
    "                splitted_line = line.split(' ')\n",
    "                label[h_idx][int(splitted_line[0])] = splitted_line[1].strip() + '_' + splitted_line[0]\n",
    "    return label\n",
    "\n",
    "\n",
    "# Read the data\n",
    "def read_data(base_path, h_idx, labels, applicance_list):\n",
    "    h_path = os.path.join(base_path, \"house_{}/\".format(h_idx))\n",
    "    num_apps = len(glob.glob(h_path + 'channel*'))\n",
    "    df = None\n",
    "    for ch_i in range(1, num_apps + 1):\n",
    "        file = h_path + 'channel_{}.dat'.format(ch_i)\n",
    "        if labels[h_idx][ch_i].split(\"_\")[0] in applicance_list:\n",
    "            if df is None:\n",
    "                df = pd.read_table(file, sep = ' ', names = ['unix_time', labels[h_idx][ch_i]], \n",
    "                                                  dtype = {'unix_time': 'int64', labels[h_idx][ch_i]: 'float64'})\n",
    "            else:\n",
    "                data = pd.read_table(file, sep = ' ', names = ['unix_time', labels[h_idx][ch_i]], \n",
    "                                                  dtype = {'unix_time': 'int64', labels[h_idx][ch_i]: 'float64'})\n",
    "                df = pd.merge(df, data, how = 'inner', on = 'unix_time')\n",
    "    df['timestamp'] = df['unix_time'].astype(\"datetime64[s]\")\n",
    "    df = df.set_index(df['timestamp'].values)\n",
    "    df.drop(['unix_time','timestamp'], axis=1, inplace=True)\n",
    "    df.sort_index(inplace=True)\n",
    "    return df"
   ]
  },
  {
   "cell_type": "code",
   "execution_count": 79,
   "id": "associate-canyon",
   "metadata": {},
   "outputs": [
    {
     "name": "stdout",
     "output_type": "stream",
     "text": [
      "CPU times: user 1.15 s, sys: 310 ms, total: 1.46 s\n",
      "Wall time: 1.48 s\n"
     ]
    }
   ],
   "source": [
    "%%time\n",
    "labels = read_label(base_path)\n",
    "df = {}\n",
    "for i in range(1, 7):\n",
    "    df[i] = read_data(base_path, i, labels, applicance_list)"
   ]
  },
  {
   "cell_type": "code",
   "execution_count": 80,
   "id": "proved-diesel",
   "metadata": {},
   "outputs": [
    {
     "data": {
      "text/html": [
       "<div>\n",
       "<style scoped>\n",
       "    .dataframe tbody tr th:only-of-type {\n",
       "        vertical-align: middle;\n",
       "    }\n",
       "\n",
       "    .dataframe tbody tr th {\n",
       "        vertical-align: top;\n",
       "    }\n",
       "\n",
       "    .dataframe thead th {\n",
       "        text-align: right;\n",
       "    }\n",
       "</style>\n",
       "<table border=\"1\" class=\"dataframe\">\n",
       "  <thead>\n",
       "    <tr style=\"text-align: right;\">\n",
       "      <th></th>\n",
       "      <th>refrigerator_5</th>\n",
       "      <th>dishwaser_6</th>\n",
       "    </tr>\n",
       "  </thead>\n",
       "  <tbody>\n",
       "    <tr>\n",
       "      <th>2011-04-18 13:22:13</th>\n",
       "      <td>6.0</td>\n",
       "      <td>0.0</td>\n",
       "    </tr>\n",
       "    <tr>\n",
       "      <th>2011-04-18 13:22:16</th>\n",
       "      <td>6.0</td>\n",
       "      <td>0.0</td>\n",
       "    </tr>\n",
       "    <tr>\n",
       "      <th>2011-04-18 13:22:20</th>\n",
       "      <td>6.0</td>\n",
       "      <td>0.0</td>\n",
       "    </tr>\n",
       "    <tr>\n",
       "      <th>2011-04-18 13:22:23</th>\n",
       "      <td>6.0</td>\n",
       "      <td>1.0</td>\n",
       "    </tr>\n",
       "    <tr>\n",
       "      <th>2011-04-18 13:22:26</th>\n",
       "      <td>6.0</td>\n",
       "      <td>0.0</td>\n",
       "    </tr>\n",
       "  </tbody>\n",
       "</table>\n",
       "</div>"
      ],
      "text/plain": [
       "                     refrigerator_5  dishwaser_6\n",
       "2011-04-18 13:22:13             6.0          0.0\n",
       "2011-04-18 13:22:16             6.0          0.0\n",
       "2011-04-18 13:22:20             6.0          0.0\n",
       "2011-04-18 13:22:23             6.0          1.0\n",
       "2011-04-18 13:22:26             6.0          0.0"
      ]
     },
     "execution_count": 80,
     "metadata": {},
     "output_type": "execute_result"
    }
   ],
   "source": [
    "df[1].head()"
   ]
  },
  {
   "cell_type": "code",
   "execution_count": null,
   "id": "academic-cleanup",
   "metadata": {},
   "outputs": [],
   "source": []
  },
  {
   "cell_type": "markdown",
   "id": "direct-reviewer",
   "metadata": {},
   "source": [
    "## Number of houses having a particular appliance: "
   ]
  },
  {
   "cell_type": "code",
   "execution_count": 81,
   "id": "excited-hardware",
   "metadata": {},
   "outputs": [],
   "source": [
    "app_cnt = {}\n",
    "for k, v in labels.items():\n",
    "    cur_app_list = set()\n",
    "    for kk, vv in v.items():\n",
    "        app = \"_\".join(vv.split(\"_\")[:-1])\n",
    "        cur_app_list.add(app)\n",
    "    for cur_app in cur_app_list:\n",
    "        if app_cnt.get(cur_app) is None:\n",
    "            app_cnt[cur_app] = 0\n",
    "        app_cnt[cur_app] += 1\n",
    "        \n",
    "app_cnt = dict(sorted(app_cnt.items(), key=lambda x: x[1], reverse=True))"
   ]
  },
  {
   "cell_type": "code",
   "execution_count": 82,
   "id": "assumed-superior",
   "metadata": {},
   "outputs": [
    {
     "name": "stdout",
     "output_type": "stream",
     "text": [
      "{'washer_dryer': 6, 'mains': 6, 'lighting': 6, 'kitchen_outlets': 6, 'dishwaser': 6, 'bathroom_gfi': 5, 'refrigerator': 5, 'stove': 4, 'microwave': 4, 'outlets_unknown': 4, 'electric_heat': 3, 'disposal': 3, 'electronics': 3, 'furance': 3, 'smoke_alarms': 2, 'air_conditioning': 2, 'oven': 1, 'miscellaeneous': 1, 'outdoor_outlets': 1, 'subpanel': 1}\n"
     ]
    }
   ],
   "source": [
    "print(app_cnt)"
   ]
  },
  {
   "cell_type": "code",
   "execution_count": null,
   "id": "acute-injury",
   "metadata": {},
   "outputs": [],
   "source": []
  },
  {
   "cell_type": "markdown",
   "id": "productive-yellow",
   "metadata": {},
   "source": [
    "## Data Preprocessing:"
   ]
  },
  {
   "cell_type": "markdown",
   "id": "short-release",
   "metadata": {},
   "source": [
    "### 1. Add Zero Boundary Records when data is not available for more than 180 seconds (3min):"
   ]
  },
  {
   "cell_type": "code",
   "execution_count": 83,
   "id": "pursuant-clone",
   "metadata": {},
   "outputs": [],
   "source": [
    "# If there is no data for more than 180 seconds (3min), fill zeros\n",
    "second_threshold = 180\n",
    "boundary_second_interval = 5\n",
    "num_input_vals = 4"
   ]
  },
  {
   "cell_type": "code",
   "execution_count": 84,
   "id": "thirty-acrylic",
   "metadata": {},
   "outputs": [],
   "source": [
    "def createZeroRecordsDF(cur_timestamp_list, col_list, cur_input_vals=4, cur_boundary_second_interval=5):\n",
    "    zero_end_records = []\n",
    "    for cur_ts in cur_timestamp_list:\n",
    "        cur_ts_new = cur_ts + timedelta(seconds=cur_boundary_second_interval)\n",
    "        cur_record = [cur_ts_new] + [0] * cur_input_vals\n",
    "        zero_end_records.append(cur_record)\n",
    "\n",
    "    zero_end_records_df = pd.DataFrame(zero_end_records, columns=col_list)\n",
    "    zero_end_records_df = zero_end_records_df.set_index(zero_end_records_df['time_stamp'].values)\n",
    "    return zero_end_records_df\n",
    "\n",
    "def addZeroBoundaryRecords(cur_df):\n",
    "    col_list = [\"time_stamp\"] + list(cur_df.columns)\n",
    "    cur_df[\"time_stamp\"] = cur_df.index\n",
    "    \n",
    "    cur_df[\"time_diff\"] = cur_df[\"time_stamp\"].diff(periods = 1).dt.total_seconds()\n",
    "    cur_df[\"prev_time_diff\"] = cur_df[\"time_diff\"].shift(periods = -1)\n",
    "    \n",
    "    cur_input_vals = len(col_list) - 1\n",
    "    prev_timestamps = list(cur_df[cur_df[\"prev_time_diff\"] >= second_threshold][\"time_stamp\"])\n",
    "    next_zero_boundary_records = createZeroRecordsDF(prev_timestamps, col_list, cur_input_vals, boundary_second_interval)\n",
    "    cur_df = cur_df.append(next_zero_boundary_records)\n",
    "    \n",
    "    next_timestamps = list(cur_df[cur_df[\"time_diff\"] >= second_threshold][\"time_stamp\"])\n",
    "    prev_zero_boundary_ecords = createZeroRecordsDF(next_timestamps, col_list, cur_input_vals, -1 * boundary_second_interval)\n",
    "    cur_df = cur_df.append(prev_zero_boundary_ecords)\n",
    "    \n",
    "    # Sort by Timestamp\n",
    "    cur_df.sort_index(inplace=True)\n",
    "    cur_df.drop(columns=[\"time_stamp\", \"time_diff\", \"prev_time_diff\"], inplace=True)\n",
    "    \n",
    "    return cur_df"
   ]
  },
  {
   "cell_type": "code",
   "execution_count": 85,
   "id": "bronze-invalid",
   "metadata": {},
   "outputs": [
    {
     "name": "stdout",
     "output_type": "stream",
     "text": [
      "CPU times: user 463 ms, sys: 213 ms, total: 676 ms\n",
      "Wall time: 677 ms\n"
     ]
    }
   ],
   "source": [
    "%%time\n",
    "for i in range(1, 7):\n",
    "    df[i] = addZeroBoundaryRecords(df[i].copy())"
   ]
  },
  {
   "cell_type": "code",
   "execution_count": 86,
   "id": "literary-perspective",
   "metadata": {},
   "outputs": [
    {
     "data": {
      "text/html": [
       "<div>\n",
       "<style scoped>\n",
       "    .dataframe tbody tr th:only-of-type {\n",
       "        vertical-align: middle;\n",
       "    }\n",
       "\n",
       "    .dataframe tbody tr th {\n",
       "        vertical-align: top;\n",
       "    }\n",
       "\n",
       "    .dataframe thead th {\n",
       "        text-align: right;\n",
       "    }\n",
       "</style>\n",
       "<table border=\"1\" class=\"dataframe\">\n",
       "  <thead>\n",
       "    <tr style=\"text-align: right;\">\n",
       "      <th></th>\n",
       "      <th>dishwaser_6</th>\n",
       "      <th>refrigerator_5</th>\n",
       "    </tr>\n",
       "  </thead>\n",
       "  <tbody>\n",
       "    <tr>\n",
       "      <th>2011-04-18 13:22:13</th>\n",
       "      <td>0.0</td>\n",
       "      <td>6.0</td>\n",
       "    </tr>\n",
       "    <tr>\n",
       "      <th>2011-04-18 13:22:16</th>\n",
       "      <td>0.0</td>\n",
       "      <td>6.0</td>\n",
       "    </tr>\n",
       "    <tr>\n",
       "      <th>2011-04-18 13:22:20</th>\n",
       "      <td>0.0</td>\n",
       "      <td>6.0</td>\n",
       "    </tr>\n",
       "    <tr>\n",
       "      <th>2011-04-18 13:22:23</th>\n",
       "      <td>1.0</td>\n",
       "      <td>6.0</td>\n",
       "    </tr>\n",
       "    <tr>\n",
       "      <th>2011-04-18 13:22:26</th>\n",
       "      <td>0.0</td>\n",
       "      <td>6.0</td>\n",
       "    </tr>\n",
       "  </tbody>\n",
       "</table>\n",
       "</div>"
      ],
      "text/plain": [
       "                     dishwaser_6  refrigerator_5\n",
       "2011-04-18 13:22:13          0.0             6.0\n",
       "2011-04-18 13:22:16          0.0             6.0\n",
       "2011-04-18 13:22:20          0.0             6.0\n",
       "2011-04-18 13:22:23          1.0             6.0\n",
       "2011-04-18 13:22:26          0.0             6.0"
      ]
     },
     "execution_count": 86,
     "metadata": {},
     "output_type": "execute_result"
    }
   ],
   "source": [
    "df[1].head()"
   ]
  },
  {
   "cell_type": "code",
   "execution_count": null,
   "id": "virtual-tradition",
   "metadata": {},
   "outputs": [],
   "source": []
  },
  {
   "cell_type": "markdown",
   "id": "another-secretary",
   "metadata": {},
   "source": [
    "### 2. Check the sampling rate and resample everything to 1 hr interval:"
   ]
  },
  {
   "cell_type": "code",
   "execution_count": 90,
   "id": "advisory-finnish",
   "metadata": {},
   "outputs": [],
   "source": [
    "sampling_rate_seconds = 60"
   ]
  },
  {
   "cell_type": "code",
   "execution_count": 91,
   "id": "processed-saver",
   "metadata": {},
   "outputs": [],
   "source": [
    "def resampleDF(cur_df, cur_sampling_rate):\n",
    "    col_list = list(cur_df.columns)\n",
    "    cur_df[\"time_stamp\"] = cur_df.index\n",
    "    out_df = pd.DataFrame(columns=cur_df.columns)\n",
    "    for cur_col in col_list:\n",
    "        cur_val_list = cur_df[[\"time_stamp\", cur_col]].values.tolist()\n",
    "        \n",
    "        start_time = cur_val_list[0][0]\n",
    "        end_time = cur_val_list[-1][0]\n",
    "        \n",
    "        # Create the traces TimeSeries Object and resample\n",
    "        cur_ts = traces.TimeSeries(cur_val_list)\n",
    "        cur_ts_sampled = cur_ts.sample(\n",
    "            sampling_period=timedelta(seconds=cur_sampling_rate),\n",
    "            start=start_time,\n",
    "            end=end_time,\n",
    "            interpolate='linear',\n",
    "        )\n",
    "        out_df[\"time_stamp\"] = [x[0] for x in cur_ts_sampled]\n",
    "        out_df[cur_col] = [round(x[1],3) for x in cur_ts_sampled]\n",
    "        \n",
    "        print(\"Finished interpolating the column =\", cur_col)\n",
    "        \n",
    "        # Free up memory\n",
    "        del cur_ts\n",
    "        \n",
    "    out_df.set_index(\"time_stamp\", inplace=True)\n",
    "    return out_df"
   ]
  },
  {
   "cell_type": "code",
   "execution_count": 92,
   "id": "frank-florida",
   "metadata": {},
   "outputs": [
    {
     "name": "stdout",
     "output_type": "stream",
     "text": [
      "House 1:\n",
      "Finished interpolating the column = dishwaser_6\n",
      "Finished interpolating the column = refrigerator_5\n",
      "\n",
      "\n",
      "House 2:\n",
      "Finished interpolating the column = dishwaser_10\n",
      "Finished interpolating the column = refrigerator_9\n",
      "\n",
      "\n",
      "House 3:\n",
      "Finished interpolating the column = dishwaser_9\n",
      "Finished interpolating the column = refrigerator_7\n",
      "\n",
      "\n",
      "House 4:\n",
      "Finished interpolating the column = dishwaser_15\n",
      "\n",
      "\n",
      "House 5:\n",
      "Finished interpolating the column = dishwaser_20\n",
      "Finished interpolating the column = refrigerator_18\n",
      "\n",
      "\n",
      "House 6:\n",
      "Finished interpolating the column = dishwaser_9\n",
      "Finished interpolating the column = refrigerator_8\n",
      "\n",
      "\n",
      "CPU times: user 42.7 s, sys: 728 ms, total: 43.5 s\n",
      "Wall time: 43.5 s\n"
     ]
    }
   ],
   "source": [
    "%%time\n",
    "df_resampled = {}\n",
    "for i in range(1, 7):\n",
    "    print(\"House \" + str(i) + \":\")\n",
    "    df_resampled[i] = resampleDF(df[i].copy(), sampling_rate_seconds)\n",
    "    df_resampled[i] = df_resampled[i].resample(\"1H\").mean()\n",
    "    print(\"\\n\")"
   ]
  },
  {
   "cell_type": "code",
   "execution_count": 102,
   "id": "premium-reporter",
   "metadata": {},
   "outputs": [
    {
     "data": {
      "text/html": [
       "<div>\n",
       "<style scoped>\n",
       "    .dataframe tbody tr th:only-of-type {\n",
       "        vertical-align: middle;\n",
       "    }\n",
       "\n",
       "    .dataframe tbody tr th {\n",
       "        vertical-align: top;\n",
       "    }\n",
       "\n",
       "    .dataframe thead th {\n",
       "        text-align: right;\n",
       "    }\n",
       "</style>\n",
       "<table border=\"1\" class=\"dataframe\">\n",
       "  <thead>\n",
       "    <tr style=\"text-align: right;\">\n",
       "      <th></th>\n",
       "      <th>dishwaser_6</th>\n",
       "      <th>refrigerator_5</th>\n",
       "    </tr>\n",
       "    <tr>\n",
       "      <th>time_stamp</th>\n",
       "      <th></th>\n",
       "      <th></th>\n",
       "    </tr>\n",
       "  </thead>\n",
       "  <tbody>\n",
       "    <tr>\n",
       "      <th>2011-04-18 13:00:00</th>\n",
       "      <td>0.142395</td>\n",
       "      <td>5.991237</td>\n",
       "    </tr>\n",
       "    <tr>\n",
       "      <th>2011-04-18 14:00:00</th>\n",
       "      <td>0.446300</td>\n",
       "      <td>139.541667</td>\n",
       "    </tr>\n",
       "    <tr>\n",
       "      <th>2011-04-18 15:00:00</th>\n",
       "      <td>0.005550</td>\n",
       "      <td>120.904883</td>\n",
       "    </tr>\n",
       "    <tr>\n",
       "      <th>2011-04-18 16:00:00</th>\n",
       "      <td>0.016667</td>\n",
       "      <td>59.741267</td>\n",
       "    </tr>\n",
       "    <tr>\n",
       "      <th>2011-04-18 17:00:00</th>\n",
       "      <td>0.008333</td>\n",
       "      <td>49.729117</td>\n",
       "    </tr>\n",
       "  </tbody>\n",
       "</table>\n",
       "</div>"
      ],
      "text/plain": [
       "                     dishwaser_6  refrigerator_5\n",
       "time_stamp                                      \n",
       "2011-04-18 13:00:00     0.142395        5.991237\n",
       "2011-04-18 14:00:00     0.446300      139.541667\n",
       "2011-04-18 15:00:00     0.005550      120.904883\n",
       "2011-04-18 16:00:00     0.016667       59.741267\n",
       "2011-04-18 17:00:00     0.008333       49.729117"
      ]
     },
     "execution_count": 102,
     "metadata": {},
     "output_type": "execute_result"
    }
   ],
   "source": [
    "df_resampled[1].head()"
   ]
  },
  {
   "cell_type": "code",
   "execution_count": null,
   "id": "aggregate-scoop",
   "metadata": {},
   "outputs": [],
   "source": []
  },
  {
   "cell_type": "markdown",
   "id": "artificial-jackson",
   "metadata": {},
   "source": [
    "### 3. Store the resampled data (Split into train/test)"
   ]
  },
  {
   "cell_type": "code",
   "execution_count": 109,
   "id": "greenhouse-mauritius",
   "metadata": {},
   "outputs": [],
   "source": [
    "def split_Store(cur_df, cur_path=\"\", appliance=\"refrigerator\", train_percent=0.70):\n",
    "    target_col_list = []\n",
    "    for cur_col in cur_df.columns:\n",
    "        if appliance in cur_col:\n",
    "            target_col_list.append(cur_col)\n",
    "            \n",
    "    if len(target_col_list) == 0:\n",
    "        print(\"Column doesn't exist!\")\n",
    "        return\n",
    "    \n",
    "    cur_df_copy = cur_df.copy()\n",
    "    for target_col in target_col_list:\n",
    "        cur_df = cur_df_copy.copy()\n",
    "        cur_df.rename(columns={target_col:\"output\"}, inplace=True)\n",
    "        cols = [\"output\"]\n",
    "            \n",
    "        # Write full data\n",
    "        cur_full_path = cur_path + \".csv\"\n",
    "        cur_full_seg = cur_df[cols]\n",
    "        print(\"Writing to \", cur_full_path)\n",
    "        cur_full_seg.to_csv(cur_full_path)\n",
    "        \n",
    "        # Write Train data\n",
    "        num_train_samples = int(cur_df.shape[0] * train_percent)\n",
    "        cur_train_path = cur_path + \"_train.csv\"\n",
    "        cur_train_seg = cur_df.iloc[:num_train_samples][cols]\n",
    "        print(\"Writing to \", cur_train_path)\n",
    "        cur_train_seg.to_csv(cur_train_path)\n",
    "        \n",
    "        # Write Test data\n",
    "        cur_test_path = cur_path + \"_test.csv\"\n",
    "        cur_test_seg = cur_df.iloc[num_train_samples:][cols]\n",
    "        print(\"Writing to \", cur_test_path)\n",
    "        cur_test_seg.to_csv(cur_test_path)"
   ]
  },
  {
   "cell_type": "code",
   "execution_count": null,
   "id": "pending-orientation",
   "metadata": {},
   "outputs": [],
   "source": [
    "# out_base_dir = \"../data/redd_forecast_processed/\"\n",
    "    \n",
    "# applicance_list = [\"dishwaser\", \"refrigerator\"]\n",
    "# for cur_app in applicance_list:\n",
    "#     for i in range(1, 7):\n",
    "#         cur_path = os.path.join(out_base_dir, cur_app)\n",
    "        \n",
    "#         # Create the output directory if it doesn't exist\n",
    "#         if not os.path.exists(cur_path):\n",
    "#             os.makedirs(cur_path)\n",
    "    \n",
    "#         split_Store(df_resampled[i], cur_path=os.path.join(cur_path, \"h\" + str(i)), appliance=cur_app, train_percent=0.70)\n",
    "#         print(\"\\n\")"
   ]
  },
  {
   "cell_type": "code",
   "execution_count": null,
   "id": "verbal-medicaid",
   "metadata": {},
   "outputs": [],
   "source": []
  }
 ],
 "metadata": {
  "kernelspec": {
   "display_name": "Python 3",
   "language": "python",
   "name": "python3"
  },
  "language_info": {
   "codemirror_mode": {
    "name": "ipython",
    "version": 3
   },
   "file_extension": ".py",
   "mimetype": "text/x-python",
   "name": "python",
   "nbconvert_exporter": "python",
   "pygments_lexer": "ipython3",
   "version": "3.8.8"
  }
 },
 "nbformat": 4,
 "nbformat_minor": 5
}
