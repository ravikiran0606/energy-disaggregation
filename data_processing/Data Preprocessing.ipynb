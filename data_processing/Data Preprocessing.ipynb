{
 "cells": [
  {
   "cell_type": "code",
   "execution_count": 230,
   "id": "macro-alcohol",
   "metadata": {},
   "outputs": [],
   "source": [
    "import numpy as np\n",
    "import pandas as pd\n",
    "import matplotlib.pyplot as plt\n",
    "%matplotlib inline\n",
    "from IPython.display import display\n",
    "import datetime\n",
    "from datetime import timedelta\n",
    "import time\n",
    "import math\n",
    "import warnings\n",
    "import os\n",
    "warnings.filterwarnings(\"ignore\")\n",
    "import glob\n",
    "import traces"
   ]
  },
  {
   "cell_type": "code",
   "execution_count": null,
   "id": "unlike-peripheral",
   "metadata": {},
   "outputs": [],
   "source": []
  },
  {
   "cell_type": "markdown",
   "id": "formed-providence",
   "metadata": {},
   "source": [
    "# REDD:"
   ]
  },
  {
   "cell_type": "code",
   "execution_count": 231,
   "id": "electoral-papua",
   "metadata": {},
   "outputs": [],
   "source": [
    "base_path = \"../data/redd/low_freq/\"\n",
    "applicance_list = [\"mains\", \"dishwaser\", \"refrigerator\"]"
   ]
  },
  {
   "cell_type": "code",
   "execution_count": 232,
   "id": "photographic-disco",
   "metadata": {},
   "outputs": [],
   "source": [
    "# Read the labels & create the label map\n",
    "def read_label(base_path):\n",
    "    label = {}\n",
    "    for h_idx in range(1, 7):\n",
    "        h_path = os.path.join(base_path, \"house_{}/labels.dat\".format(h_idx))\n",
    "        label[h_idx] = {}\n",
    "        with open(h_path) as f:\n",
    "            for line in f:\n",
    "                splitted_line = line.split(' ')\n",
    "                label[h_idx][int(splitted_line[0])] = splitted_line[1].strip() + '_' + splitted_line[0]\n",
    "    return label\n",
    "\n",
    "\n",
    "# Read the data\n",
    "def read_data(base_path, h_idx, labels, applicance_list):\n",
    "    h_path = os.path.join(base_path, \"house_{}/\".format(h_idx))\n",
    "    num_apps = len(glob.glob(h_path + 'channel*'))\n",
    "    df = None\n",
    "    for ch_i in range(1, num_apps + 1):\n",
    "        file = h_path + 'channel_{}.dat'.format(ch_i)\n",
    "        if labels[h_idx][ch_i].split(\"_\")[0] in applicance_list:\n",
    "            if df is None:\n",
    "                df = pd.read_table(file, sep = ' ', names = ['unix_time', labels[h_idx][ch_i]], \n",
    "                                                  dtype = {'unix_time': 'int64', labels[h_idx][ch_i]: 'float64'})\n",
    "            else:\n",
    "                data = pd.read_table(file, sep = ' ', names = ['unix_time', labels[h_idx][ch_i]], \n",
    "                                                  dtype = {'unix_time': 'int64', labels[h_idx][ch_i]: 'float64'})\n",
    "                df = pd.merge(df, data, how = 'inner', on = 'unix_time')\n",
    "    df['timestamp'] = df['unix_time'].astype(\"datetime64[s]\")\n",
    "    df = df.set_index(df['timestamp'].values)\n",
    "    df.drop(['unix_time','timestamp'], axis=1, inplace=True)\n",
    "    df.sort_index(inplace=True)\n",
    "    return df"
   ]
  },
  {
   "cell_type": "code",
   "execution_count": 233,
   "id": "associate-canyon",
   "metadata": {},
   "outputs": [
    {
     "name": "stdout",
     "output_type": "stream",
     "text": [
      "CPU times: user 5.23 s, sys: 1.79 s, total: 7.03 s\n",
      "Wall time: 7.07 s\n"
     ]
    }
   ],
   "source": [
    "%%time\n",
    "labels = read_label(base_path)\n",
    "df = {}\n",
    "for i in range(1, 7):\n",
    "    df[i] = read_data(base_path, i, labels, applicance_list)"
   ]
  },
  {
   "cell_type": "code",
   "execution_count": 235,
   "id": "proved-diesel",
   "metadata": {},
   "outputs": [
    {
     "data": {
      "text/html": [
       "<div>\n",
       "<style scoped>\n",
       "    .dataframe tbody tr th:only-of-type {\n",
       "        vertical-align: middle;\n",
       "    }\n",
       "\n",
       "    .dataframe tbody tr th {\n",
       "        vertical-align: top;\n",
       "    }\n",
       "\n",
       "    .dataframe thead th {\n",
       "        text-align: right;\n",
       "    }\n",
       "</style>\n",
       "<table border=\"1\" class=\"dataframe\">\n",
       "  <thead>\n",
       "    <tr style=\"text-align: right;\">\n",
       "      <th></th>\n",
       "      <th>mains_1</th>\n",
       "      <th>mains_2</th>\n",
       "      <th>refrigerator_5</th>\n",
       "      <th>dishwaser_6</th>\n",
       "    </tr>\n",
       "  </thead>\n",
       "  <tbody>\n",
       "    <tr>\n",
       "      <th>2011-04-18 13:22:13</th>\n",
       "      <td>222.20</td>\n",
       "      <td>118.83</td>\n",
       "      <td>6.0</td>\n",
       "      <td>0.0</td>\n",
       "    </tr>\n",
       "    <tr>\n",
       "      <th>2011-04-18 13:22:16</th>\n",
       "      <td>223.17</td>\n",
       "      <td>119.19</td>\n",
       "      <td>6.0</td>\n",
       "      <td>0.0</td>\n",
       "    </tr>\n",
       "    <tr>\n",
       "      <th>2011-04-18 13:22:20</th>\n",
       "      <td>223.60</td>\n",
       "      <td>118.92</td>\n",
       "      <td>6.0</td>\n",
       "      <td>0.0</td>\n",
       "    </tr>\n",
       "    <tr>\n",
       "      <th>2011-04-18 13:22:23</th>\n",
       "      <td>222.91</td>\n",
       "      <td>119.16</td>\n",
       "      <td>6.0</td>\n",
       "      <td>1.0</td>\n",
       "    </tr>\n",
       "    <tr>\n",
       "      <th>2011-04-18 13:22:26</th>\n",
       "      <td>222.94</td>\n",
       "      <td>118.83</td>\n",
       "      <td>6.0</td>\n",
       "      <td>0.0</td>\n",
       "    </tr>\n",
       "  </tbody>\n",
       "</table>\n",
       "</div>"
      ],
      "text/plain": [
       "                     mains_1  mains_2  refrigerator_5  dishwaser_6\n",
       "2011-04-18 13:22:13   222.20   118.83             6.0          0.0\n",
       "2011-04-18 13:22:16   223.17   119.19             6.0          0.0\n",
       "2011-04-18 13:22:20   223.60   118.92             6.0          0.0\n",
       "2011-04-18 13:22:23   222.91   119.16             6.0          1.0\n",
       "2011-04-18 13:22:26   222.94   118.83             6.0          0.0"
      ]
     },
     "execution_count": 235,
     "metadata": {},
     "output_type": "execute_result"
    }
   ],
   "source": [
    "df[1].head()"
   ]
  },
  {
   "cell_type": "code",
   "execution_count": null,
   "id": "academic-cleanup",
   "metadata": {},
   "outputs": [],
   "source": []
  },
  {
   "cell_type": "markdown",
   "id": "direct-reviewer",
   "metadata": {},
   "source": [
    "## Number of houses having a particular appliance: "
   ]
  },
  {
   "cell_type": "code",
   "execution_count": 236,
   "id": "excited-hardware",
   "metadata": {},
   "outputs": [],
   "source": [
    "app_cnt = {}\n",
    "for k, v in labels.items():\n",
    "    cur_app_list = set()\n",
    "    for kk, vv in v.items():\n",
    "        app = \"_\".join(vv.split(\"_\")[:-1])\n",
    "        cur_app_list.add(app)\n",
    "    for cur_app in cur_app_list:\n",
    "        if app_cnt.get(cur_app) is None:\n",
    "            app_cnt[cur_app] = 0\n",
    "        app_cnt[cur_app] += 1\n",
    "        \n",
    "app_cnt = dict(sorted(app_cnt.items(), key=lambda x: x[1], reverse=True))"
   ]
  },
  {
   "cell_type": "code",
   "execution_count": 237,
   "id": "assumed-superior",
   "metadata": {},
   "outputs": [
    {
     "name": "stdout",
     "output_type": "stream",
     "text": [
      "{'kitchen_outlets': 6, 'dishwaser': 6, 'washer_dryer': 6, 'lighting': 6, 'mains': 6, 'refrigerator': 5, 'bathroom_gfi': 5, 'stove': 4, 'microwave': 4, 'outlets_unknown': 4, 'electric_heat': 3, 'disposal': 3, 'electronics': 3, 'furance': 3, 'smoke_alarms': 2, 'air_conditioning': 2, 'oven': 1, 'miscellaeneous': 1, 'subpanel': 1, 'outdoor_outlets': 1}\n"
     ]
    }
   ],
   "source": [
    "print(app_cnt)"
   ]
  },
  {
   "cell_type": "code",
   "execution_count": null,
   "id": "acute-injury",
   "metadata": {},
   "outputs": [],
   "source": []
  },
  {
   "cell_type": "markdown",
   "id": "productive-yellow",
   "metadata": {},
   "source": [
    "## Data Preprocessing:"
   ]
  },
  {
   "cell_type": "markdown",
   "id": "short-release",
   "metadata": {},
   "source": [
    "### 1. Add Zero Boundary Records when data is not available for more than 180 seconds (3min):"
   ]
  },
  {
   "cell_type": "code",
   "execution_count": 238,
   "id": "pursuant-clone",
   "metadata": {},
   "outputs": [],
   "source": [
    "# If there is no data for more than 180 seconds (3min), fill zeros\n",
    "second_threshold = 180\n",
    "boundary_second_interval = 5\n",
    "num_input_vals = 4"
   ]
  },
  {
   "cell_type": "code",
   "execution_count": 239,
   "id": "thirty-acrylic",
   "metadata": {},
   "outputs": [],
   "source": [
    "def createZeroRecordsDF(cur_timestamp_list, col_list, cur_input_vals=4, cur_boundary_second_interval=5):\n",
    "    zero_end_records = []\n",
    "    for cur_ts in cur_timestamp_list:\n",
    "        cur_ts_new = cur_ts + timedelta(seconds=cur_boundary_second_interval)\n",
    "        cur_record = [cur_ts_new] + [0] * cur_input_vals\n",
    "        zero_end_records.append(cur_record)\n",
    "\n",
    "    zero_end_records_df = pd.DataFrame(zero_end_records, columns=col_list)\n",
    "    zero_end_records_df = zero_end_records_df.set_index(zero_end_records_df['time_stamp'].values)\n",
    "    return zero_end_records_df\n",
    "\n",
    "def addZeroBoundaryRecords(cur_df):\n",
    "    col_list = [\"time_stamp\"] + list(cur_df.columns)\n",
    "    cur_df[\"time_stamp\"] = cur_df.index\n",
    "    \n",
    "    cur_df[\"time_diff\"] = cur_df[\"time_stamp\"].diff(periods = 1).dt.total_seconds()\n",
    "    cur_df[\"prev_time_diff\"] = cur_df[\"time_diff\"].shift(periods = -1)\n",
    "    \n",
    "    cur_input_vals = len(col_list) - 1\n",
    "    prev_timestamps = list(cur_df[cur_df[\"prev_time_diff\"] >= second_threshold][\"time_stamp\"])\n",
    "    next_zero_boundary_records = createZeroRecordsDF(prev_timestamps, col_list, cur_input_vals, boundary_second_interval)\n",
    "    cur_df = cur_df.append(next_zero_boundary_records)\n",
    "    \n",
    "    next_timestamps = list(cur_df[cur_df[\"time_diff\"] >= second_threshold][\"time_stamp\"])\n",
    "    prev_zero_boundary_ecords = createZeroRecordsDF(next_timestamps, col_list, cur_input_vals, -1 * boundary_second_interval)\n",
    "    cur_df = cur_df.append(prev_zero_boundary_ecords)\n",
    "    \n",
    "    # Sort by Timestamp\n",
    "    cur_df.sort_index(inplace=True)\n",
    "    cur_df.drop(columns=[\"time_stamp\", \"time_diff\", \"prev_time_diff\"], inplace=True)\n",
    "    \n",
    "    return cur_df"
   ]
  },
  {
   "cell_type": "code",
   "execution_count": 240,
   "id": "bronze-invalid",
   "metadata": {},
   "outputs": [
    {
     "name": "stdout",
     "output_type": "stream",
     "text": [
      "CPU times: user 429 ms, sys: 163 ms, total: 591 ms\n",
      "Wall time: 591 ms\n"
     ]
    }
   ],
   "source": [
    "%%time\n",
    "for i in range(1, 7):\n",
    "    df[i] = addZeroBoundaryRecords(df[i].copy())"
   ]
  },
  {
   "cell_type": "code",
   "execution_count": 244,
   "id": "literary-perspective",
   "metadata": {},
   "outputs": [
    {
     "data": {
      "text/html": [
       "<div>\n",
       "<style scoped>\n",
       "    .dataframe tbody tr th:only-of-type {\n",
       "        vertical-align: middle;\n",
       "    }\n",
       "\n",
       "    .dataframe tbody tr th {\n",
       "        vertical-align: top;\n",
       "    }\n",
       "\n",
       "    .dataframe thead th {\n",
       "        text-align: right;\n",
       "    }\n",
       "</style>\n",
       "<table border=\"1\" class=\"dataframe\">\n",
       "  <thead>\n",
       "    <tr style=\"text-align: right;\">\n",
       "      <th></th>\n",
       "      <th>dishwaser_6</th>\n",
       "      <th>mains_1</th>\n",
       "      <th>mains_2</th>\n",
       "      <th>refrigerator_5</th>\n",
       "    </tr>\n",
       "  </thead>\n",
       "  <tbody>\n",
       "    <tr>\n",
       "      <th>2011-04-18 13:22:13</th>\n",
       "      <td>0.0</td>\n",
       "      <td>222.20</td>\n",
       "      <td>118.83</td>\n",
       "      <td>6.0</td>\n",
       "    </tr>\n",
       "    <tr>\n",
       "      <th>2011-04-18 13:22:16</th>\n",
       "      <td>0.0</td>\n",
       "      <td>223.17</td>\n",
       "      <td>119.19</td>\n",
       "      <td>6.0</td>\n",
       "    </tr>\n",
       "    <tr>\n",
       "      <th>2011-04-18 13:22:20</th>\n",
       "      <td>0.0</td>\n",
       "      <td>223.60</td>\n",
       "      <td>118.92</td>\n",
       "      <td>6.0</td>\n",
       "    </tr>\n",
       "    <tr>\n",
       "      <th>2011-04-18 13:22:23</th>\n",
       "      <td>1.0</td>\n",
       "      <td>222.91</td>\n",
       "      <td>119.16</td>\n",
       "      <td>6.0</td>\n",
       "    </tr>\n",
       "    <tr>\n",
       "      <th>2011-04-18 13:22:26</th>\n",
       "      <td>0.0</td>\n",
       "      <td>222.94</td>\n",
       "      <td>118.83</td>\n",
       "      <td>6.0</td>\n",
       "    </tr>\n",
       "  </tbody>\n",
       "</table>\n",
       "</div>"
      ],
      "text/plain": [
       "                     dishwaser_6  mains_1  mains_2  refrigerator_5\n",
       "2011-04-18 13:22:13          0.0   222.20   118.83             6.0\n",
       "2011-04-18 13:22:16          0.0   223.17   119.19             6.0\n",
       "2011-04-18 13:22:20          0.0   223.60   118.92             6.0\n",
       "2011-04-18 13:22:23          1.0   222.91   119.16             6.0\n",
       "2011-04-18 13:22:26          0.0   222.94   118.83             6.0"
      ]
     },
     "execution_count": 244,
     "metadata": {},
     "output_type": "execute_result"
    }
   ],
   "source": [
    "df[1].head()"
   ]
  },
  {
   "cell_type": "code",
   "execution_count": null,
   "id": "virtual-tradition",
   "metadata": {},
   "outputs": [],
   "source": []
  },
  {
   "cell_type": "markdown",
   "id": "another-secretary",
   "metadata": {},
   "source": [
    "### 2. Check the sampling rate and resample everything to 3 second interval:"
   ]
  },
  {
   "cell_type": "code",
   "execution_count": 83,
   "id": "advisory-finnish",
   "metadata": {},
   "outputs": [],
   "source": [
    "sampling_rate_seconds = 3"
   ]
  },
  {
   "cell_type": "code",
   "execution_count": 105,
   "id": "processed-saver",
   "metadata": {},
   "outputs": [],
   "source": [
    "def resampleDF(cur_df, cur_sampling_rate):\n",
    "    col_list = list(cur_df.columns)\n",
    "    cur_df[\"time_stamp\"] = cur_df.index\n",
    "    out_df = pd.DataFrame(columns=cur_df.columns)\n",
    "    for cur_col in col_list:\n",
    "        cur_val_list = cur_df[[\"time_stamp\", cur_col]].values.tolist()\n",
    "        \n",
    "        start_time = cur_val_list[0][0]\n",
    "        end_time = cur_val_list[-1][0]\n",
    "        \n",
    "        # Create the traces TimeSeries Object and resample\n",
    "        cur_ts = traces.TimeSeries(cur_val_list)\n",
    "        cur_ts_sampled = cur_ts.sample(\n",
    "            sampling_period=timedelta(seconds=cur_sampling_rate),\n",
    "            start=start_time,\n",
    "            end=end_time,\n",
    "            interpolate='linear',\n",
    "        )\n",
    "        out_df[\"time_stamp\"] = [x[0] for x in cur_ts_sampled]\n",
    "        out_df[cur_col] = [round(x[1],3) for x in cur_ts_sampled]\n",
    "        \n",
    "        print(\"Finished interpolating the column =\", cur_col)\n",
    "        \n",
    "        # Free up memory\n",
    "        del cur_ts\n",
    "        \n",
    "    return out_df"
   ]
  },
  {
   "cell_type": "code",
   "execution_count": null,
   "id": "frank-florida",
   "metadata": {},
   "outputs": [],
   "source": [
    "%%time\n",
    "df_resampled = {}\n",
    "for i in range(1, 7):\n",
    "    print(\"House \" + str(i) + \":\")\n",
    "    df_resampled[i] = resampleDF(df[i].copy(), sampling_rate_seconds)\n",
    "    print(\"\\n\")"
   ]
  },
  {
   "cell_type": "code",
   "execution_count": null,
   "id": "genetic-jungle",
   "metadata": {},
   "outputs": [],
   "source": []
  },
  {
   "cell_type": "markdown",
   "id": "measured-cream",
   "metadata": {},
   "source": [
    "### 3. Normalize the data"
   ]
  },
  {
   "cell_type": "code",
   "execution_count": 245,
   "id": "emotional-windows",
   "metadata": {},
   "outputs": [],
   "source": [
    "def normalizeDF(cur_df):\n",
    "    cur_df_mean = cur_df.mean(axis=0)\n",
    "    cur_df_std = cur_df.std(axis=0)\n",
    "    out_df = (cur_df - cur_df_mean)/(cur_df_std)\n",
    "    return out_df"
   ]
  },
  {
   "cell_type": "code",
   "execution_count": 249,
   "id": "increasing-cholesterol",
   "metadata": {},
   "outputs": [
    {
     "name": "stdout",
     "output_type": "stream",
     "text": [
      "CPU times: user 188 ms, sys: 58.2 ms, total: 246 ms\n",
      "Wall time: 148 ms\n"
     ]
    }
   ],
   "source": [
    "%%time\n",
    "for i in range(1, 7):\n",
    "    df[i] = normalizeDF(df[i].copy())"
   ]
  },
  {
   "cell_type": "code",
   "execution_count": 251,
   "id": "specific-cleveland",
   "metadata": {},
   "outputs": [
    {
     "data": {
      "text/html": [
       "<div>\n",
       "<style scoped>\n",
       "    .dataframe tbody tr th:only-of-type {\n",
       "        vertical-align: middle;\n",
       "    }\n",
       "\n",
       "    .dataframe tbody tr th {\n",
       "        vertical-align: top;\n",
       "    }\n",
       "\n",
       "    .dataframe thead th {\n",
       "        text-align: right;\n",
       "    }\n",
       "</style>\n",
       "<table border=\"1\" class=\"dataframe\">\n",
       "  <thead>\n",
       "    <tr style=\"text-align: right;\">\n",
       "      <th></th>\n",
       "      <th>dishwaser_6</th>\n",
       "      <th>mains_1</th>\n",
       "      <th>mains_2</th>\n",
       "      <th>refrigerator_5</th>\n",
       "    </tr>\n",
       "  </thead>\n",
       "  <tbody>\n",
       "    <tr>\n",
       "      <th>2011-04-18 13:22:13</th>\n",
       "      <td>-0.166425</td>\n",
       "      <td>-0.012543</td>\n",
       "      <td>-0.087618</td>\n",
       "      <td>-0.555263</td>\n",
       "    </tr>\n",
       "    <tr>\n",
       "      <th>2011-04-18 13:22:16</th>\n",
       "      <td>-0.166425</td>\n",
       "      <td>-0.010175</td>\n",
       "      <td>-0.086772</td>\n",
       "      <td>-0.555263</td>\n",
       "    </tr>\n",
       "    <tr>\n",
       "      <th>2011-04-18 13:22:20</th>\n",
       "      <td>-0.166425</td>\n",
       "      <td>-0.009126</td>\n",
       "      <td>-0.087406</td>\n",
       "      <td>-0.555263</td>\n",
       "    </tr>\n",
       "    <tr>\n",
       "      <th>2011-04-18 13:22:23</th>\n",
       "      <td>-0.159746</td>\n",
       "      <td>-0.010810</td>\n",
       "      <td>-0.086843</td>\n",
       "      <td>-0.555263</td>\n",
       "    </tr>\n",
       "    <tr>\n",
       "      <th>2011-04-18 13:22:26</th>\n",
       "      <td>-0.166425</td>\n",
       "      <td>-0.010737</td>\n",
       "      <td>-0.087618</td>\n",
       "      <td>-0.555263</td>\n",
       "    </tr>\n",
       "  </tbody>\n",
       "</table>\n",
       "</div>"
      ],
      "text/plain": [
       "                     dishwaser_6   mains_1   mains_2  refrigerator_5\n",
       "2011-04-18 13:22:13    -0.166425 -0.012543 -0.087618       -0.555263\n",
       "2011-04-18 13:22:16    -0.166425 -0.010175 -0.086772       -0.555263\n",
       "2011-04-18 13:22:20    -0.166425 -0.009126 -0.087406       -0.555263\n",
       "2011-04-18 13:22:23    -0.159746 -0.010810 -0.086843       -0.555263\n",
       "2011-04-18 13:22:26    -0.166425 -0.010737 -0.087618       -0.555263"
      ]
     },
     "execution_count": 251,
     "metadata": {},
     "output_type": "execute_result"
    }
   ],
   "source": [
    "df[1].head()"
   ]
  },
  {
   "cell_type": "code",
   "execution_count": null,
   "id": "human-style",
   "metadata": {},
   "outputs": [],
   "source": []
  },
  {
   "cell_type": "markdown",
   "id": "protecting-calculation",
   "metadata": {},
   "source": [
    "## Train/test split:"
   ]
  },
  {
   "cell_type": "code",
   "execution_count": 292,
   "id": "ancient-oxford",
   "metadata": {},
   "outputs": [],
   "source": [
    "train_houses = [1,2,3,4]\n",
    "test_houses = [5,6]"
   ]
  },
  {
   "cell_type": "code",
   "execution_count": null,
   "id": "banned-liability",
   "metadata": {},
   "outputs": [],
   "source": []
  },
  {
   "cell_type": "code",
   "execution_count": null,
   "id": "verified-roulette",
   "metadata": {},
   "outputs": [],
   "source": []
  },
  {
   "cell_type": "code",
   "execution_count": null,
   "id": "considerable-ending",
   "metadata": {},
   "outputs": [],
   "source": []
  }
 ],
 "metadata": {
  "kernelspec": {
   "display_name": "Python 3",
   "language": "python",
   "name": "python3"
  },
  "language_info": {
   "codemirror_mode": {
    "name": "ipython",
    "version": 3
   },
   "file_extension": ".py",
   "mimetype": "text/x-python",
   "name": "python",
   "nbconvert_exporter": "python",
   "pygments_lexer": "ipython3",
   "version": "3.8.8"
  }
 },
 "nbformat": 4,
 "nbformat_minor": 5
}
