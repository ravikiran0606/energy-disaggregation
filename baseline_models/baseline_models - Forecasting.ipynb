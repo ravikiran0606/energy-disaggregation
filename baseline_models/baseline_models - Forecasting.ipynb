{
 "cells": [
  {
   "cell_type": "code",
   "execution_count": 64,
   "id": "numeric-compression",
   "metadata": {},
   "outputs": [],
   "source": [
    "import numpy as np\n",
    "import pandas as pd\n",
    "import os\n",
    "from statsmodels.tsa.arima.model import ARIMA\n",
    "import matplotlib.pyplot as plt\n",
    "from tqdm import tqdm\n",
    "from sklearn.metrics import mean_squared_error\n",
    "import math\n",
    "\n",
    "%matplotlib inline"
   ]
  },
  {
   "cell_type": "code",
   "execution_count": null,
   "id": "aboriginal-apollo",
   "metadata": {},
   "outputs": [],
   "source": []
  },
  {
   "cell_type": "code",
   "execution_count": null,
   "id": "controlling-hearing",
   "metadata": {},
   "outputs": [],
   "source": []
  },
  {
   "cell_type": "code",
   "execution_count": 70,
   "id": "radio-jason",
   "metadata": {},
   "outputs": [],
   "source": [
    "def getTrainTestdata(data_dir, appliance=\"refrigerator\", house_idx=1):\n",
    "    train_path = os.path.join(data_dir, appliance, \"h\" + str(house_idx) + \"_train.csv\")\n",
    "    cur_df_train = pd.read_csv(train_path, index_col=0)\n",
    "    \n",
    "    test_path = os.path.join(data_dir, appliance, \"h\" + str(house_idx) + \"_test.csv\")\n",
    "    cur_df_test = pd.read_csv(test_path, index_col=0)\n",
    "    \n",
    "    return cur_df_train, cur_df_test"
   ]
  },
  {
   "cell_type": "code",
   "execution_count": 71,
   "id": "egyptian-blowing",
   "metadata": {},
   "outputs": [],
   "source": [
    "def computeMetrics(df_pred):\n",
    "    rmse_1 = math.sqrt(mean_squared_error(df_pred[\"gt_1\"], df_pred[\"pred_1\"]))\n",
    "    rmse_2 = math.sqrt(mean_squared_error(df_pred[\"gt_2\"], df_pred[\"pred_2\"]))\n",
    "    rmse_3 = math.sqrt(mean_squared_error(df_pred[\"gt_3\"], df_pred[\"pred_3\"]))\n",
    "    \n",
    "    print(\"1-hr RMSE = \", rmse_1)\n",
    "    print(\"2-hr RMSE = \", rmse_2)\n",
    "    print(\"3-hr RMSE = \", rmse_3)"
   ]
  },
  {
   "cell_type": "code",
   "execution_count": 78,
   "id": "reduced-transport",
   "metadata": {},
   "outputs": [],
   "source": [
    "def trainARIMA(df_train, df_test):\n",
    "    history_data = list(df_train[\"output\"])\n",
    "    test_gt_data = list(df_test[\"output\"])\n",
    "    test_ts = list(df_test.index)\n",
    "    y_pred_data = []\n",
    "    y_pred_cols = [\"time_stamp\", \"gt_1\", \"gt_2\", \"gt_3\", \"pred_1\", \"pred_2\", \"pred_3\"]\n",
    "    \n",
    "    i = 0\n",
    "    # Do Training and Prediction\n",
    "    for idx in tqdm(range(len(test_gt_data)-2)):\n",
    "        \n",
    "        # Predict the next 1-hr\n",
    "        cur_model = ARIMA(history_data, order=(10,1,0))\n",
    "        cur_model_fit = cur_model.fit()\n",
    "        cur_out = cur_model_fit.forecast()[0]\n",
    "        \n",
    "        # Predict the next 2-hr\n",
    "        history_data_1 = history_data + [cur_out]\n",
    "        cur_model = ARIMA(history_data_1, order=(10,1,0))\n",
    "        cur_model_fit = cur_model.fit()\n",
    "        cur_out_2 = cur_model_fit.forecast()[0]\n",
    "        \n",
    "        # Predict the next 3-hr\n",
    "        history_data_2 = history_data_1 + [cur_out_2]\n",
    "        cur_model = ARIMA(history_data_2, order=(10,1,0))\n",
    "        cur_model_fit = cur_model.fit()\n",
    "        cur_out_3 = cur_model_fit.forecast()[0]\n",
    "        \n",
    "        y_pred_data.append([test_ts[i], test_gt_data[i], test_gt_data[i+1], test_gt_data[i+2], cur_out, cur_out_2, cur_out_3])\n",
    "        history_data.append(test_gt_data[i])\n",
    "        i += 1\n",
    "        \n",
    "    y_pred_df = pd.DataFrame(data=y_pred_data, columns=y_pred_cols)\n",
    "    \n",
    "    # Compute Metrics:\n",
    "    computeMetrics(y_pred_df)"
   ]
  },
  {
   "cell_type": "code",
   "execution_count": null,
   "id": "everyday-syria",
   "metadata": {},
   "outputs": [],
   "source": []
  },
  {
   "cell_type": "code",
   "execution_count": 79,
   "id": "spare-registrar",
   "metadata": {},
   "outputs": [],
   "source": [
    "base_data_dir = \"../data/redd_forecast_processed/\""
   ]
  },
  {
   "cell_type": "code",
   "execution_count": 80,
   "id": "informative-malta",
   "metadata": {},
   "outputs": [
    {
     "name": "stderr",
     "output_type": "stream",
     "text": [
      "\r",
      "  0%|          | 0/260 [00:00<?, ?it/s]"
     ]
    },
    {
     "name": "stdout",
     "output_type": "stream",
     "text": [
      "Appliance =  refrigerator\n"
     ]
    },
    {
     "name": "stderr",
     "output_type": "stream",
     "text": [
      "100%|██████████| 260/260 [05:46<00:00,  1.33s/it]\n",
      "  0%|          | 0/260 [00:00<?, ?it/s]"
     ]
    },
    {
     "name": "stdout",
     "output_type": "stream",
     "text": [
      "1-hr RMSE =  36.80262891761127\n",
      "2-hr RMSE =  37.68169036112851\n",
      "3-hr RMSE =  37.308303691832194\n",
      "\n",
      "\n",
      "Appliance =  dishwaser\n"
     ]
    },
    {
     "name": "stderr",
     "output_type": "stream",
     "text": [
      "100%|██████████| 260/260 [05:47<00:00,  1.34s/it]"
     ]
    },
    {
     "name": "stdout",
     "output_type": "stream",
     "text": [
      "1-hr RMSE =  117.89277636330759\n",
      "2-hr RMSE =  141.7360759276701\n",
      "3-hr RMSE =  144.6487435744681\n",
      "\n",
      "\n"
     ]
    },
    {
     "name": "stderr",
     "output_type": "stream",
     "text": [
      "\n"
     ]
    }
   ],
   "source": [
    "appliance_list = [\"refrigerator\", \"dishwaser\"]\n",
    "for cur_app in appliance_list:\n",
    "    print(\"Appliance = \", cur_app)\n",
    "    df_train, df_test = getTrainTestdata(base_data_dir, appliance=cur_app, house_idx=1)\n",
    "    trainARIMA(df_train, df_test)\n",
    "    print(\"\\n\")"
   ]
  },
  {
   "cell_type": "code",
   "execution_count": null,
   "id": "specific-azerbaijan",
   "metadata": {},
   "outputs": [],
   "source": []
  },
  {
   "cell_type": "code",
   "execution_count": null,
   "id": "disciplinary-spencer",
   "metadata": {},
   "outputs": [],
   "source": []
  }
 ],
 "metadata": {
  "kernelspec": {
   "display_name": "Python 3",
   "language": "python",
   "name": "python3"
  },
  "language_info": {
   "codemirror_mode": {
    "name": "ipython",
    "version": 3
   },
   "file_extension": ".py",
   "mimetype": "text/x-python",
   "name": "python",
   "nbconvert_exporter": "python",
   "pygments_lexer": "ipython3",
   "version": "3.8.8"
  }
 },
 "nbformat": 4,
 "nbformat_minor": 5
}
