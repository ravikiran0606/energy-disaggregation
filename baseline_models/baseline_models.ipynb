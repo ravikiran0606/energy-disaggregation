{
 "cells": [
  {
   "cell_type": "code",
   "execution_count": 88,
   "id": "6f88ab95",
   "metadata": {},
   "outputs": [],
   "source": [
    "import numpy as np\n",
    "import pandas as pd\n",
    "import json\n",
    "import re\n",
    "from collections import defaultdict\n",
    "from sklearn.ensemble import RandomForestRegressor\n",
    "from sklearn.metrics import mean_squared_error\n",
    "import matplotlib.pyplot as plt\n",
    "%matplotlib inline"
   ]
  },
  {
   "cell_type": "code",
   "execution_count": 2,
   "id": "971de2bb",
   "metadata": {},
   "outputs": [],
   "source": [
    "datapath = '../data/redd/low_freq/'\n",
    "dishwasher_channel = "
   ]
  },
  {
   "cell_type": "code",
   "execution_count": 5,
   "id": "9cdf834a",
   "metadata": {},
   "outputs": [
    {
     "data": {
      "text/plain": [
       "{0: {0: 1,\n",
       "  1: 2,\n",
       "  2: 3,\n",
       "  3: 4,\n",
       "  4: 5,\n",
       "  5: 6,\n",
       "  6: 7,\n",
       "  7: 8,\n",
       "  8: 9,\n",
       "  9: 10,\n",
       "  10: 11,\n",
       "  11: 12,\n",
       "  12: 13,\n",
       "  13: 14,\n",
       "  14: 15,\n",
       "  15: 16,\n",
       "  16: 17,\n",
       "  17: 18,\n",
       "  18: 19,\n",
       "  19: 20},\n",
       " 1: {0: 'mains',\n",
       "  1: 'mains',\n",
       "  2: 'oven',\n",
       "  3: 'oven',\n",
       "  4: 'refrigerator',\n",
       "  5: 'dishwaser',\n",
       "  6: 'kitchen_outlets',\n",
       "  7: 'kitchen_outlets',\n",
       "  8: 'lighting',\n",
       "  9: 'washer_dryer',\n",
       "  10: 'microwave',\n",
       "  11: 'bathroom_gfi',\n",
       "  12: 'electric_heat',\n",
       "  13: 'stove',\n",
       "  14: 'kitchen_outlets',\n",
       "  15: 'kitchen_outlets',\n",
       "  16: 'lighting',\n",
       "  17: 'lighting',\n",
       "  18: 'washer_dryer',\n",
       "  19: 'washer_dryer'}}"
      ]
     },
     "execution_count": 5,
     "metadata": {},
     "output_type": "execute_result"
    }
   ],
   "source": [
    "labels = pd.read_csv('../data/redd/low_freq/house_1/labels.dat',sep='\\s+',header=None)\n",
    "labels.to_dict()"
   ]
  },
  {
   "cell_type": "code",
   "execution_count": 12,
   "id": "c7e7a654",
   "metadata": {},
   "outputs": [
    {
     "name": "stdout",
     "output_type": "stream",
     "text": [
      "{\n",
      "    \"house_1\": {\n",
      "        \"mains_1\": 1,\n",
      "        \"mains_2\": 2,\n",
      "        \"oven_3\": 3,\n",
      "        \"oven_4\": 4,\n",
      "        \"refrigerator_5\": 5,\n",
      "        \"dishwaser_6\": 6,\n",
      "        \"kitchen_outlets_7\": 7,\n",
      "        \"kitchen_outlets_8\": 8,\n",
      "        \"lighting_9\": 9,\n",
      "        \"washer_dryer_10\": 10,\n",
      "        \"microwave_11\": 11,\n",
      "        \"bathroom_gfi_12\": 12,\n",
      "        \"electric_heat_13\": 13,\n",
      "        \"stove_14\": 14,\n",
      "        \"kitchen_outlets_15\": 15,\n",
      "        \"kitchen_outlets_16\": 16,\n",
      "        \"lighting_17\": 17,\n",
      "        \"lighting_18\": 18,\n",
      "        \"washer_dryer_19\": 19,\n",
      "        \"washer_dryer_20\": 20\n",
      "    },\n",
      "    \"house_2\": {\n",
      "        \"mains_1\": 1,\n",
      "        \"mains_2\": 2,\n",
      "        \"kitchen_outlets_3\": 3,\n",
      "        \"lighting_4\": 4,\n",
      "        \"stove_5\": 5,\n",
      "        \"microwave_6\": 6,\n",
      "        \"washer_dryer_7\": 7,\n",
      "        \"kitchen_outlets_8\": 8,\n",
      "        \"refrigerator_9\": 9,\n",
      "        \"dishwaser_10\": 10,\n",
      "        \"disposal_11\": 11\n",
      "    },\n",
      "    \"house_3\": {\n",
      "        \"mains_1\": 1,\n",
      "        \"mains_2\": 2,\n",
      "        \"outlets_unknown_3\": 3,\n",
      "        \"outlets_unknown_4\": 4,\n",
      "        \"lighting_5\": 5,\n",
      "        \"electronics_6\": 6,\n",
      "        \"refrigerator_7\": 7,\n",
      "        \"disposal_8\": 8,\n",
      "        \"dishwaser_9\": 9,\n",
      "        \"furance_10\": 10,\n",
      "        \"lighting_11\": 11,\n",
      "        \"outlets_unknown_12\": 12,\n",
      "        \"washer_dryer_13\": 13,\n",
      "        \"washer_dryer_14\": 14,\n",
      "        \"lighting_15\": 15,\n",
      "        \"microwave_16\": 16,\n",
      "        \"lighting_17\": 17,\n",
      "        \"smoke_alarms_18\": 18,\n",
      "        \"lighting_19\": 19,\n",
      "        \"bathroom_gfi_20\": 20,\n",
      "        \"kitchen_outlets_21\": 21,\n",
      "        \"kitchen_outlets_22\": 22\n",
      "    },\n",
      "    \"house_4\": {\n",
      "        \"mains_1\": 1,\n",
      "        \"mains_2\": 2,\n",
      "        \"lighting_3\": 3,\n",
      "        \"furance_4\": 4,\n",
      "        \"kitchen_outlets_5\": 5,\n",
      "        \"outlets_unknown_6\": 6,\n",
      "        \"washer_dryer_7\": 7,\n",
      "        \"stove_8\": 8,\n",
      "        \"air_conditioning_9\": 9,\n",
      "        \"air_conditioning_10\": 10,\n",
      "        \"miscellaeneous_11\": 11,\n",
      "        \"smoke_alarms_12\": 12,\n",
      "        \"lighting_13\": 13,\n",
      "        \"kitchen_outlets_14\": 14,\n",
      "        \"dishwaser_15\": 15,\n",
      "        \"bathroom_gfi_16\": 16,\n",
      "        \"bathroom_gfi_17\": 17,\n",
      "        \"lighting_18\": 18,\n",
      "        \"lighting_19\": 19,\n",
      "        \"air_conditioning_20\": 20\n",
      "    },\n",
      "    \"house_5\": {\n",
      "        \"mains_1\": 1,\n",
      "        \"mains_2\": 2,\n",
      "        \"microwave_3\": 3,\n",
      "        \"lighting_4\": 4,\n",
      "        \"outlets_unknown_5\": 5,\n",
      "        \"furance_6\": 6,\n",
      "        \"outlets_unknown_7\": 7,\n",
      "        \"washer_dryer_8\": 8,\n",
      "        \"washer_dryer_9\": 9,\n",
      "        \"subpanel_10\": 10,\n",
      "        \"subpanel_11\": 11,\n",
      "        \"electric_heat_12\": 12,\n",
      "        \"electric_heat_13\": 13,\n",
      "        \"lighting_14\": 14,\n",
      "        \"outlets_unknown_15\": 15,\n",
      "        \"bathroom_gfi_16\": 16,\n",
      "        \"lighting_17\": 17,\n",
      "        \"refrigerator_18\": 18,\n",
      "        \"lighting_19\": 19,\n",
      "        \"dishwaser_20\": 20,\n",
      "        \"disposal_21\": 21,\n",
      "        \"electronics_22\": 22,\n",
      "        \"lighting_23\": 23,\n",
      "        \"kitchen_outlets_24\": 24,\n",
      "        \"kitchen_outlets_25\": 25,\n",
      "        \"outdoor_outlets_26\": 26\n",
      "    },\n",
      "    \"house_6\": {\n",
      "        \"mains_1\": 1,\n",
      "        \"mains_2\": 2,\n",
      "        \"kitchen_outlets_3\": 3,\n",
      "        \"washer_dryer_4\": 4,\n",
      "        \"stove_5\": 5,\n",
      "        \"electronics_6\": 6,\n",
      "        \"bathroom_gfi_7\": 7,\n",
      "        \"refrigerator_8\": 8,\n",
      "        \"dishwaser_9\": 9,\n",
      "        \"outlets_unknown_10\": 10,\n",
      "        \"outlets_unknown_11\": 11,\n",
      "        \"electric_heat_12\": 12,\n",
      "        \"kitchen_outlets_13\": 13,\n",
      "        \"lighting_14\": 14,\n",
      "        \"air_conditioning_15\": 15,\n",
      "        \"air_conditioning_16\": 16,\n",
      "        \"air_conditioning_17\": 17\n",
      "    }\n",
      "}\n"
     ]
    }
   ],
   "source": [
    "def read_house_channels(datapath):\n",
    "    app_channel_dict = {}\n",
    "    for i in range(1,7):\n",
    "        path = datapath + 'house_{}/labels.dat'.format(i)\n",
    "        df = pd.read_csv(path, sep='\\s+', header=None)\n",
    "        channel_n = df[0].to_list()\n",
    "        appliance = df[1].to_list()\n",
    "        house_n = 'house_{}'.format(i)\n",
    "        app_channel_dict[house_n] = {app + '_' + str(chan): chan for app, chan in list(zip(appliance,channel_n))}\n",
    "    return app_channel_dict\n",
    "\n",
    "app_channel_dict = read_house_channels(datapath)\n",
    "print(json.dumps(app_channel_dict, indent=4))"
   ]
  },
  {
   "cell_type": "code",
   "execution_count": 21,
   "id": "51c1e20e",
   "metadata": {},
   "outputs": [
    {
     "name": "stdout",
     "output_type": "stream",
     "text": [
      "{\n",
      "    \"house_1\": {\n",
      "        \"mains_1\": 1,\n",
      "        \"mains_2\": 2,\n",
      "        \"refrigerator_5\": 5,\n",
      "        \"dishwaser_6\": 6\n",
      "    },\n",
      "    \"house_2\": {\n",
      "        \"mains_1\": 1,\n",
      "        \"mains_2\": 2,\n",
      "        \"refrigerator_9\": 9,\n",
      "        \"dishwaser_10\": 10\n",
      "    },\n",
      "    \"house_3\": {\n",
      "        \"mains_1\": 1,\n",
      "        \"mains_2\": 2,\n",
      "        \"refrigerator_7\": 7,\n",
      "        \"dishwaser_9\": 9\n",
      "    },\n",
      "    \"house_4\": {\n",
      "        \"mains_1\": 1,\n",
      "        \"mains_2\": 2,\n",
      "        \"dishwaser_15\": 15\n",
      "    },\n",
      "    \"house_5\": {\n",
      "        \"mains_1\": 1,\n",
      "        \"mains_2\": 2,\n",
      "        \"refrigerator_18\": 18,\n",
      "        \"dishwaser_20\": 20\n",
      "    },\n",
      "    \"house_6\": {\n",
      "        \"mains_1\": 1,\n",
      "        \"mains_2\": 2,\n",
      "        \"refrigerator_8\": 8,\n",
      "        \"dishwaser_9\": 9\n",
      "    }\n",
      "}\n"
     ]
    }
   ],
   "source": [
    "# We are choosing refrigerator and dishwasher\n",
    "app_chan = defaultdict(dict)\n",
    "for house, val in app_channel_dict.items():\n",
    "    for app, chan in val.items():\n",
    "        if re.search('mains',app) or re.search('refrigerator', app) \\\n",
    "        or re.search('dishwaser', app):\n",
    "            app_chan[house][app] = chan\n",
    "print(json.dumps(app_chan, indent=4))"
   ]
  },
  {
   "cell_type": "markdown",
   "id": "e2a42382",
   "metadata": {},
   "source": [
    "### Feature Generation"
   ]
  },
  {
   "cell_type": "code",
   "execution_count": 41,
   "id": "bee26d11",
   "metadata": {},
   "outputs": [],
   "source": [
    "def read_appliance_data(datapath, app_chan, \n",
    "                        appliance1='refrigerator', appliance2='dishwaser'):\n",
    "    house_df = {}\n",
    "    for i, (house, app_dict) in enumerate(app_chan.items()):\n",
    "        for j, (appliance, channel) in enumerate(app_dict.items()):\n",
    "            path = datapath + house + '/channel_{}.dat'.format(channel)\n",
    "            if j == 0:\n",
    "                df = pd.read_csv(path, sep='\\s+', header=None, names=['timestamp',appliance])\n",
    "                continue\n",
    "            appliance_name = appliance\n",
    "            if re.search(appliance1, appliance):\n",
    "                appliance_name = appliance1\n",
    "            if re.search(appliance2, appliance):\n",
    "                appliance_name = appliance2\n",
    "            d = pd.read_csv(path, sep='\\s+', header=None, names=['timestamp', appliance_name])\n",
    "            df = pd.merge(df, d, how='inner', on='timestamp')\n",
    "        house_df[house] = df\n",
    "        \n",
    "    return house_df\n",
    "\n",
    "house_df = read_appliance_data(datapath, app_chan)\n",
    "    "
   ]
  },
  {
   "cell_type": "code",
   "execution_count": 42,
   "id": "4df1d086",
   "metadata": {},
   "outputs": [
    {
     "data": {
      "text/plain": [
       "dict_keys(['house_1', 'house_2', 'house_3', 'house_4', 'house_5', 'house_6'])"
      ]
     },
     "execution_count": 42,
     "metadata": {},
     "output_type": "execute_result"
    }
   ],
   "source": [
    "house_df.keys()"
   ]
  },
  {
   "cell_type": "code",
   "execution_count": 49,
   "id": "c0f20559",
   "metadata": {},
   "outputs": [
    {
     "name": "stdout",
     "output_type": "stream",
     "text": [
      "<class 'pandas.core.frame.DataFrame'>\n",
      "Int64Index: 406748 entries, 0 to 406747\n",
      "Data columns (total 5 columns):\n",
      " #   Column        Non-Null Count   Dtype  \n",
      "---  ------        --------------   -----  \n",
      " 0   timestamp     406748 non-null  int64  \n",
      " 1   mains_1       406748 non-null  float64\n",
      " 2   mains_2       406748 non-null  float64\n",
      " 3   refrigerator  406748 non-null  float64\n",
      " 4   dishwaser     406748 non-null  float64\n",
      "dtypes: float64(4), int64(1)\n",
      "memory usage: 18.6 MB\n",
      "None\n",
      "\n",
      "<class 'pandas.core.frame.DataFrame'>\n",
      "Int64Index: 316840 entries, 0 to 316839\n",
      "Data columns (total 5 columns):\n",
      " #   Column        Non-Null Count   Dtype  \n",
      "---  ------        --------------   -----  \n",
      " 0   timestamp     316840 non-null  int64  \n",
      " 1   mains_1       316840 non-null  float64\n",
      " 2   mains_2       316840 non-null  float64\n",
      " 3   refrigerator  316840 non-null  float64\n",
      " 4   dishwaser     316840 non-null  float64\n",
      "dtypes: float64(4), int64(1)\n",
      "memory usage: 14.5 MB\n",
      "None\n",
      "\n",
      "<class 'pandas.core.frame.DataFrame'>\n",
      "Int64Index: 376150 entries, 0 to 376149\n",
      "Data columns (total 5 columns):\n",
      " #   Column        Non-Null Count   Dtype  \n",
      "---  ------        --------------   -----  \n",
      " 0   timestamp     376150 non-null  int64  \n",
      " 1   mains_1       376150 non-null  float64\n",
      " 2   mains_2       376150 non-null  float64\n",
      " 3   refrigerator  376150 non-null  float64\n",
      " 4   dishwaser     376150 non-null  float64\n",
      "dtypes: float64(4), int64(1)\n",
      "memory usage: 17.2 MB\n",
      "None\n",
      "\n",
      "<class 'pandas.core.frame.DataFrame'>\n",
      "Int64Index: 428076 entries, 0 to 428075\n",
      "Data columns (total 4 columns):\n",
      " #   Column     Non-Null Count   Dtype  \n",
      "---  ------     --------------   -----  \n",
      " 0   timestamp  428076 non-null  int64  \n",
      " 1   mains_1    428076 non-null  float64\n",
      " 2   mains_2    428076 non-null  float64\n",
      " 3   dishwaser  428076 non-null  float64\n",
      "dtypes: float64(3), int64(1)\n",
      "memory usage: 16.3 MB\n",
      "None\n",
      "\n",
      "<class 'pandas.core.frame.DataFrame'>\n",
      "Int64Index: 77451 entries, 0 to 77450\n",
      "Data columns (total 5 columns):\n",
      " #   Column        Non-Null Count  Dtype  \n",
      "---  ------        --------------  -----  \n",
      " 0   timestamp     77451 non-null  int64  \n",
      " 1   mains_1       77451 non-null  float64\n",
      " 2   mains_2       77451 non-null  float64\n",
      " 3   refrigerator  77451 non-null  float64\n",
      " 4   dishwaser     77451 non-null  float64\n",
      "dtypes: float64(4), int64(1)\n",
      "memory usage: 3.5 MB\n",
      "None\n",
      "\n",
      "<class 'pandas.core.frame.DataFrame'>\n",
      "Int64Index: 192192 entries, 0 to 192191\n",
      "Data columns (total 5 columns):\n",
      " #   Column        Non-Null Count   Dtype  \n",
      "---  ------        --------------   -----  \n",
      " 0   timestamp     192192 non-null  int64  \n",
      " 1   mains_1       192192 non-null  float64\n",
      " 2   mains_2       192192 non-null  float64\n",
      " 3   refrigerator  192192 non-null  float64\n",
      " 4   dishwaser     192192 non-null  float64\n",
      "dtypes: float64(4), int64(1)\n",
      "memory usage: 8.8 MB\n",
      "None\n",
      "\n"
     ]
    }
   ],
   "source": [
    "for house in house_df:\n",
    "    print(house_df[house].info())\n",
    "    print()"
   ]
  },
  {
   "cell_type": "code",
   "execution_count": 45,
   "id": "8f9c7dcf",
   "metadata": {},
   "outputs": [
    {
     "data": {
      "text/html": [
       "<div>\n",
       "<style scoped>\n",
       "    .dataframe tbody tr th:only-of-type {\n",
       "        vertical-align: middle;\n",
       "    }\n",
       "\n",
       "    .dataframe tbody tr th {\n",
       "        vertical-align: top;\n",
       "    }\n",
       "\n",
       "    .dataframe thead th {\n",
       "        text-align: right;\n",
       "    }\n",
       "</style>\n",
       "<table border=\"1\" class=\"dataframe\">\n",
       "  <thead>\n",
       "    <tr style=\"text-align: right;\">\n",
       "      <th></th>\n",
       "      <th>timestamp</th>\n",
       "      <th>mains_1</th>\n",
       "      <th>mains_2</th>\n",
       "      <th>refrigerator</th>\n",
       "      <th>dishwaser</th>\n",
       "    </tr>\n",
       "  </thead>\n",
       "  <tbody>\n",
       "    <tr>\n",
       "      <th>0</th>\n",
       "      <td>1302930690</td>\n",
       "      <td>181.34</td>\n",
       "      <td>577.30</td>\n",
       "      <td>119.0</td>\n",
       "      <td>0.0</td>\n",
       "    </tr>\n",
       "    <tr>\n",
       "      <th>1</th>\n",
       "      <td>1302930693</td>\n",
       "      <td>180.74</td>\n",
       "      <td>577.39</td>\n",
       "      <td>118.0</td>\n",
       "      <td>1.0</td>\n",
       "    </tr>\n",
       "    <tr>\n",
       "      <th>2</th>\n",
       "      <td>1302930696</td>\n",
       "      <td>182.00</td>\n",
       "      <td>577.88</td>\n",
       "      <td>119.0</td>\n",
       "      <td>0.0</td>\n",
       "    </tr>\n",
       "    <tr>\n",
       "      <th>3</th>\n",
       "      <td>1302930700</td>\n",
       "      <td>181.44</td>\n",
       "      <td>578.44</td>\n",
       "      <td>119.0</td>\n",
       "      <td>1.0</td>\n",
       "    </tr>\n",
       "    <tr>\n",
       "      <th>4</th>\n",
       "      <td>1302930703</td>\n",
       "      <td>179.95</td>\n",
       "      <td>575.92</td>\n",
       "      <td>117.0</td>\n",
       "      <td>0.0</td>\n",
       "    </tr>\n",
       "    <tr>\n",
       "      <th>...</th>\n",
       "      <td>...</td>\n",
       "      <td>...</td>\n",
       "      <td>...</td>\n",
       "      <td>...</td>\n",
       "      <td>...</td>\n",
       "    </tr>\n",
       "    <tr>\n",
       "      <th>376145</th>\n",
       "      <td>1306801163</td>\n",
       "      <td>15.47</td>\n",
       "      <td>2.23</td>\n",
       "      <td>8.0</td>\n",
       "      <td>3.0</td>\n",
       "    </tr>\n",
       "    <tr>\n",
       "      <th>376146</th>\n",
       "      <td>1306801166</td>\n",
       "      <td>15.48</td>\n",
       "      <td>2.23</td>\n",
       "      <td>8.0</td>\n",
       "      <td>3.0</td>\n",
       "    </tr>\n",
       "    <tr>\n",
       "      <th>376147</th>\n",
       "      <td>1306801170</td>\n",
       "      <td>15.45</td>\n",
       "      <td>2.23</td>\n",
       "      <td>8.0</td>\n",
       "      <td>3.0</td>\n",
       "    </tr>\n",
       "    <tr>\n",
       "      <th>376148</th>\n",
       "      <td>1306801173</td>\n",
       "      <td>15.42</td>\n",
       "      <td>2.23</td>\n",
       "      <td>8.0</td>\n",
       "      <td>3.0</td>\n",
       "    </tr>\n",
       "    <tr>\n",
       "      <th>376149</th>\n",
       "      <td>1306801176</td>\n",
       "      <td>15.44</td>\n",
       "      <td>2.23</td>\n",
       "      <td>7.0</td>\n",
       "      <td>3.0</td>\n",
       "    </tr>\n",
       "  </tbody>\n",
       "</table>\n",
       "<p>376150 rows × 5 columns</p>\n",
       "</div>"
      ],
      "text/plain": [
       "         timestamp  mains_1  mains_2  refrigerator  dishwaser\n",
       "0       1302930690   181.34   577.30         119.0        0.0\n",
       "1       1302930693   180.74   577.39         118.0        1.0\n",
       "2       1302930696   182.00   577.88         119.0        0.0\n",
       "3       1302930700   181.44   578.44         119.0        1.0\n",
       "4       1302930703   179.95   575.92         117.0        0.0\n",
       "...            ...      ...      ...           ...        ...\n",
       "376145  1306801163    15.47     2.23           8.0        3.0\n",
       "376146  1306801166    15.48     2.23           8.0        3.0\n",
       "376147  1306801170    15.45     2.23           8.0        3.0\n",
       "376148  1306801173    15.42     2.23           8.0        3.0\n",
       "376149  1306801176    15.44     2.23           7.0        3.0\n",
       "\n",
       "[376150 rows x 5 columns]"
      ]
     },
     "execution_count": 45,
     "metadata": {},
     "output_type": "execute_result"
    }
   ],
   "source": [
    "house_df['house_3']"
   ]
  },
  {
   "cell_type": "code",
   "execution_count": 71,
   "id": "839b64b5",
   "metadata": {},
   "outputs": [],
   "source": [
    "def generate_features(df, window_size):\n",
    "    df['mains_1_roll_mean'] = df['mains_1'].rolling(window_size).mean().fillna(method='bfill')\n",
    "    df['mains_1_roll_max'] = df['mains_1'].rolling(window_size).max().fillna(method='bfill')\n",
    "    df['mains_1_roll_min'] = df['mains_1'].rolling(window_size).min().fillna(method='bfill')\n",
    "    df['mains_1_roll_var'] = df['mains_1'].rolling(window_size).var().fillna(method='bfill')\n",
    "    df['mains_2_roll_mean'] = df['mains_2'].rolling(window_size).mean().fillna(method='bfill')\n",
    "    df['mains_2_roll_max'] = df['mains_2'].rolling(window_size).max().fillna(method='bfill')\n",
    "    df['mains_2_roll_min'] = df['mains_2'].rolling(window_size).min().fillna(method='bfill')\n",
    "    df['mains_2_roll_var'] = df['mains_2'].rolling(window_size).var().fillna(method='bfill')\n",
    "    df['main1_main2_cov'] = df['mains_1'].rolling(window_size).cov(other=df['mains_2']).fillna(method='bfill')\n",
    "    return df\n",
    "\n",
    "df = generate_features(house_df['house_1'], 10)\n",
    "\n",
    "for house in house_df:\n",
    "    house_df[house] = generate_features(house_df[house], 10)"
   ]
  },
  {
   "cell_type": "code",
   "execution_count": 72,
   "id": "268482ea",
   "metadata": {},
   "outputs": [
    {
     "data": {
      "text/html": [
       "<div>\n",
       "<style scoped>\n",
       "    .dataframe tbody tr th:only-of-type {\n",
       "        vertical-align: middle;\n",
       "    }\n",
       "\n",
       "    .dataframe tbody tr th {\n",
       "        vertical-align: top;\n",
       "    }\n",
       "\n",
       "    .dataframe thead th {\n",
       "        text-align: right;\n",
       "    }\n",
       "</style>\n",
       "<table border=\"1\" class=\"dataframe\">\n",
       "  <thead>\n",
       "    <tr style=\"text-align: right;\">\n",
       "      <th></th>\n",
       "      <th>timestamp</th>\n",
       "      <th>mains_1</th>\n",
       "      <th>mains_2</th>\n",
       "      <th>refrigerator</th>\n",
       "      <th>dishwaser</th>\n",
       "      <th>mains_1_roll_mean</th>\n",
       "      <th>mains_1_roll_max</th>\n",
       "      <th>mains_1_roll_min</th>\n",
       "      <th>mains_1_roll_var</th>\n",
       "      <th>mains_2_roll_mean</th>\n",
       "      <th>mains_2_roll_max</th>\n",
       "      <th>mains_2_roll_min</th>\n",
       "      <th>mains_2_roll_var</th>\n",
       "      <th>main1_main2_cov</th>\n",
       "    </tr>\n",
       "  </thead>\n",
       "  <tbody>\n",
       "    <tr>\n",
       "      <th>0</th>\n",
       "      <td>1303132933</td>\n",
       "      <td>222.20</td>\n",
       "      <td>118.83</td>\n",
       "      <td>6.0</td>\n",
       "      <td>0.0</td>\n",
       "      <td>223.221</td>\n",
       "      <td>226.03</td>\n",
       "      <td>222.20</td>\n",
       "      <td>1.106432</td>\n",
       "      <td>118.913</td>\n",
       "      <td>119.19</td>\n",
       "      <td>118.36</td>\n",
       "      <td>0.062401</td>\n",
       "      <td>0.127274</td>\n",
       "    </tr>\n",
       "    <tr>\n",
       "      <th>1</th>\n",
       "      <td>1303132936</td>\n",
       "      <td>223.17</td>\n",
       "      <td>119.19</td>\n",
       "      <td>6.0</td>\n",
       "      <td>0.0</td>\n",
       "      <td>223.221</td>\n",
       "      <td>226.03</td>\n",
       "      <td>222.20</td>\n",
       "      <td>1.106432</td>\n",
       "      <td>118.913</td>\n",
       "      <td>119.19</td>\n",
       "      <td>118.36</td>\n",
       "      <td>0.062401</td>\n",
       "      <td>0.127274</td>\n",
       "    </tr>\n",
       "    <tr>\n",
       "      <th>2</th>\n",
       "      <td>1303132940</td>\n",
       "      <td>223.60</td>\n",
       "      <td>118.92</td>\n",
       "      <td>6.0</td>\n",
       "      <td>0.0</td>\n",
       "      <td>223.221</td>\n",
       "      <td>226.03</td>\n",
       "      <td>222.20</td>\n",
       "      <td>1.106432</td>\n",
       "      <td>118.913</td>\n",
       "      <td>119.19</td>\n",
       "      <td>118.36</td>\n",
       "      <td>0.062401</td>\n",
       "      <td>0.127274</td>\n",
       "    </tr>\n",
       "    <tr>\n",
       "      <th>3</th>\n",
       "      <td>1303132943</td>\n",
       "      <td>222.91</td>\n",
       "      <td>119.16</td>\n",
       "      <td>6.0</td>\n",
       "      <td>1.0</td>\n",
       "      <td>223.221</td>\n",
       "      <td>226.03</td>\n",
       "      <td>222.20</td>\n",
       "      <td>1.106432</td>\n",
       "      <td>118.913</td>\n",
       "      <td>119.19</td>\n",
       "      <td>118.36</td>\n",
       "      <td>0.062401</td>\n",
       "      <td>0.127274</td>\n",
       "    </tr>\n",
       "    <tr>\n",
       "      <th>4</th>\n",
       "      <td>1303132946</td>\n",
       "      <td>222.94</td>\n",
       "      <td>118.83</td>\n",
       "      <td>6.0</td>\n",
       "      <td>0.0</td>\n",
       "      <td>223.221</td>\n",
       "      <td>226.03</td>\n",
       "      <td>222.20</td>\n",
       "      <td>1.106432</td>\n",
       "      <td>118.913</td>\n",
       "      <td>119.19</td>\n",
       "      <td>118.36</td>\n",
       "      <td>0.062401</td>\n",
       "      <td>0.127274</td>\n",
       "    </tr>\n",
       "    <tr>\n",
       "      <th>...</th>\n",
       "      <td>...</td>\n",
       "      <td>...</td>\n",
       "      <td>...</td>\n",
       "      <td>...</td>\n",
       "      <td>...</td>\n",
       "      <td>...</td>\n",
       "      <td>...</td>\n",
       "      <td>...</td>\n",
       "      <td>...</td>\n",
       "      <td>...</td>\n",
       "      <td>...</td>\n",
       "      <td>...</td>\n",
       "      <td>...</td>\n",
       "      <td>...</td>\n",
       "    </tr>\n",
       "    <tr>\n",
       "      <th>406743</th>\n",
       "      <td>1306266980</td>\n",
       "      <td>235.73</td>\n",
       "      <td>38.65</td>\n",
       "      <td>186.0</td>\n",
       "      <td>1.0</td>\n",
       "      <td>235.878</td>\n",
       "      <td>239.92</td>\n",
       "      <td>234.47</td>\n",
       "      <td>2.338373</td>\n",
       "      <td>38.585</td>\n",
       "      <td>38.77</td>\n",
       "      <td>38.30</td>\n",
       "      <td>0.016872</td>\n",
       "      <td>-0.047678</td>\n",
       "    </tr>\n",
       "    <tr>\n",
       "      <th>406744</th>\n",
       "      <td>1306266983</td>\n",
       "      <td>235.03</td>\n",
       "      <td>38.66</td>\n",
       "      <td>187.0</td>\n",
       "      <td>0.0</td>\n",
       "      <td>235.723</td>\n",
       "      <td>239.92</td>\n",
       "      <td>234.47</td>\n",
       "      <td>2.336823</td>\n",
       "      <td>38.603</td>\n",
       "      <td>38.77</td>\n",
       "      <td>38.30</td>\n",
       "      <td>0.015912</td>\n",
       "      <td>-0.043454</td>\n",
       "    </tr>\n",
       "    <tr>\n",
       "      <th>406745</th>\n",
       "      <td>1306266987</td>\n",
       "      <td>235.46</td>\n",
       "      <td>38.61</td>\n",
       "      <td>190.0</td>\n",
       "      <td>0.0</td>\n",
       "      <td>235.277</td>\n",
       "      <td>235.73</td>\n",
       "      <td>234.47</td>\n",
       "      <td>0.166290</td>\n",
       "      <td>38.607</td>\n",
       "      <td>38.77</td>\n",
       "      <td>38.30</td>\n",
       "      <td>0.015779</td>\n",
       "      <td>-0.026288</td>\n",
       "    </tr>\n",
       "    <tr>\n",
       "      <th>406746</th>\n",
       "      <td>1306266990</td>\n",
       "      <td>235.98</td>\n",
       "      <td>38.77</td>\n",
       "      <td>189.0</td>\n",
       "      <td>0.0</td>\n",
       "      <td>235.314</td>\n",
       "      <td>235.98</td>\n",
       "      <td>234.47</td>\n",
       "      <td>0.207360</td>\n",
       "      <td>38.654</td>\n",
       "      <td>38.77</td>\n",
       "      <td>38.51</td>\n",
       "      <td>0.005805</td>\n",
       "      <td>-0.004129</td>\n",
       "    </tr>\n",
       "    <tr>\n",
       "      <th>406747</th>\n",
       "      <td>1306266994</td>\n",
       "      <td>235.29</td>\n",
       "      <td>38.83</td>\n",
       "      <td>186.0</td>\n",
       "      <td>0.0</td>\n",
       "      <td>235.290</td>\n",
       "      <td>235.98</td>\n",
       "      <td>234.47</td>\n",
       "      <td>0.201600</td>\n",
       "      <td>38.675</td>\n",
       "      <td>38.83</td>\n",
       "      <td>38.51</td>\n",
       "      <td>0.008628</td>\n",
       "      <td>-0.003222</td>\n",
       "    </tr>\n",
       "  </tbody>\n",
       "</table>\n",
       "<p>406748 rows × 14 columns</p>\n",
       "</div>"
      ],
      "text/plain": [
       "         timestamp  mains_1  mains_2  refrigerator  dishwaser  \\\n",
       "0       1303132933   222.20   118.83           6.0        0.0   \n",
       "1       1303132936   223.17   119.19           6.0        0.0   \n",
       "2       1303132940   223.60   118.92           6.0        0.0   \n",
       "3       1303132943   222.91   119.16           6.0        1.0   \n",
       "4       1303132946   222.94   118.83           6.0        0.0   \n",
       "...            ...      ...      ...           ...        ...   \n",
       "406743  1306266980   235.73    38.65         186.0        1.0   \n",
       "406744  1306266983   235.03    38.66         187.0        0.0   \n",
       "406745  1306266987   235.46    38.61         190.0        0.0   \n",
       "406746  1306266990   235.98    38.77         189.0        0.0   \n",
       "406747  1306266994   235.29    38.83         186.0        0.0   \n",
       "\n",
       "        mains_1_roll_mean  mains_1_roll_max  mains_1_roll_min  \\\n",
       "0                 223.221            226.03            222.20   \n",
       "1                 223.221            226.03            222.20   \n",
       "2                 223.221            226.03            222.20   \n",
       "3                 223.221            226.03            222.20   \n",
       "4                 223.221            226.03            222.20   \n",
       "...                   ...               ...               ...   \n",
       "406743            235.878            239.92            234.47   \n",
       "406744            235.723            239.92            234.47   \n",
       "406745            235.277            235.73            234.47   \n",
       "406746            235.314            235.98            234.47   \n",
       "406747            235.290            235.98            234.47   \n",
       "\n",
       "        mains_1_roll_var  mains_2_roll_mean  mains_2_roll_max  \\\n",
       "0               1.106432            118.913            119.19   \n",
       "1               1.106432            118.913            119.19   \n",
       "2               1.106432            118.913            119.19   \n",
       "3               1.106432            118.913            119.19   \n",
       "4               1.106432            118.913            119.19   \n",
       "...                  ...                ...               ...   \n",
       "406743          2.338373             38.585             38.77   \n",
       "406744          2.336823             38.603             38.77   \n",
       "406745          0.166290             38.607             38.77   \n",
       "406746          0.207360             38.654             38.77   \n",
       "406747          0.201600             38.675             38.83   \n",
       "\n",
       "        mains_2_roll_min  mains_2_roll_var  main1_main2_cov  \n",
       "0                 118.36          0.062401         0.127274  \n",
       "1                 118.36          0.062401         0.127274  \n",
       "2                 118.36          0.062401         0.127274  \n",
       "3                 118.36          0.062401         0.127274  \n",
       "4                 118.36          0.062401         0.127274  \n",
       "...                  ...               ...              ...  \n",
       "406743             38.30          0.016872        -0.047678  \n",
       "406744             38.30          0.015912        -0.043454  \n",
       "406745             38.30          0.015779        -0.026288  \n",
       "406746             38.51          0.005805        -0.004129  \n",
       "406747             38.51          0.008628        -0.003222  \n",
       "\n",
       "[406748 rows x 14 columns]"
      ]
     },
     "execution_count": 72,
     "metadata": {},
     "output_type": "execute_result"
    }
   ],
   "source": [
    "house_df['house_1']"
   ]
  },
  {
   "cell_type": "code",
   "execution_count": 73,
   "id": "7f9fd72d",
   "metadata": {},
   "outputs": [
    {
     "name": "stdout",
     "output_type": "stream",
     "text": [
      "Shape of train and test is (1527814, 14) and (269643, 14)\n"
     ]
    }
   ],
   "source": [
    "# Use house 1, house 2 ... , house 4 as training and house 5 and house 6 as test\n",
    "df_train = pd.concat([house_df['house_{}'.format(i)] for i in range(1,5)])\n",
    "df_test = pd.concat([house_df['house_{}'.format(i)] for i in range(5,7)])\n",
    "print('Shape of train and test is {} and {}'.format(df_train.shape,df_test.shape))"
   ]
  },
  {
   "cell_type": "code",
   "execution_count": 74,
   "id": "506b3cd8",
   "metadata": {},
   "outputs": [
    {
     "name": "stdout",
     "output_type": "stream",
     "text": [
      "<class 'pandas.core.frame.DataFrame'>\n",
      "Int64Index: 1527814 entries, 0 to 428075\n",
      "Data columns (total 14 columns):\n",
      " #   Column             Non-Null Count    Dtype  \n",
      "---  ------             --------------    -----  \n",
      " 0   timestamp          1527814 non-null  int64  \n",
      " 1   mains_1            1527814 non-null  float64\n",
      " 2   mains_2            1527814 non-null  float64\n",
      " 3   refrigerator       1099738 non-null  float64\n",
      " 4   dishwaser          1527814 non-null  float64\n",
      " 5   mains_1_roll_mean  1527814 non-null  float64\n",
      " 6   mains_1_roll_max   1527814 non-null  float64\n",
      " 7   mains_1_roll_min   1527814 non-null  float64\n",
      " 8   mains_1_roll_var   1527814 non-null  float64\n",
      " 9   mains_2_roll_mean  1527814 non-null  float64\n",
      " 10  mains_2_roll_max   1527814 non-null  float64\n",
      " 11  mains_2_roll_min   1527814 non-null  float64\n",
      " 12  mains_2_roll_var   1527814 non-null  float64\n",
      " 13  main1_main2_cov    1527814 non-null  float64\n",
      "dtypes: float64(13), int64(1)\n",
      "memory usage: 174.8 MB\n",
      "None\n",
      "<class 'pandas.core.frame.DataFrame'>\n",
      "Int64Index: 269643 entries, 0 to 192191\n",
      "Data columns (total 14 columns):\n",
      " #   Column             Non-Null Count   Dtype  \n",
      "---  ------             --------------   -----  \n",
      " 0   timestamp          269643 non-null  int64  \n",
      " 1   mains_1            269643 non-null  float64\n",
      " 2   mains_2            269643 non-null  float64\n",
      " 3   refrigerator       269643 non-null  float64\n",
      " 4   dishwaser          269643 non-null  float64\n",
      " 5   mains_1_roll_mean  269643 non-null  float64\n",
      " 6   mains_1_roll_max   269643 non-null  float64\n",
      " 7   mains_1_roll_min   269643 non-null  float64\n",
      " 8   mains_1_roll_var   269643 non-null  float64\n",
      " 9   mains_2_roll_mean  269643 non-null  float64\n",
      " 10  mains_2_roll_max   269643 non-null  float64\n",
      " 11  mains_2_roll_min   269643 non-null  float64\n",
      " 12  mains_2_roll_var   269643 non-null  float64\n",
      " 13  main1_main2_cov    269643 non-null  float64\n",
      "dtypes: float64(13), int64(1)\n",
      "memory usage: 30.9 MB\n",
      "None\n"
     ]
    }
   ],
   "source": [
    "print(df_train.info())\n",
    "print(df_test.info())"
   ]
  },
  {
   "cell_type": "markdown",
   "id": "eff2111f",
   "metadata": {},
   "source": [
    "### Train a Baseline model for Dishwaser"
   ]
  },
  {
   "cell_type": "code",
   "execution_count": 75,
   "id": "827b4196",
   "metadata": {},
   "outputs": [],
   "source": [
    "features = ['mains_1', 'mains_2', 'mains_1_roll_mean', 'mains_1_roll_max',\n",
    "           'mains_1_roll_min', 'mains_1_roll_var', 'mains_2_roll_mean', \n",
    "           'mains_2_roll_max', 'mains_2_roll_min', 'mains_2_roll_var',\n",
    "           'main1_main2_cov']\n",
    "label = ['dishwaser']\n",
    "\n",
    "dishwaser_df_train = df_train[features]\n",
    "dishwaser_train_labels = df_train[label]\n",
    "\n",
    "dishwaser_df_test = df_test[features]\n",
    "dishwaser_test_labels = df_test[label]"
   ]
  },
  {
   "cell_type": "code",
   "execution_count": 76,
   "id": "5308995d",
   "metadata": {},
   "outputs": [
    {
     "name": "stdout",
     "output_type": "stream",
     "text": [
      "<class 'pandas.core.frame.DataFrame'>\n",
      "Int64Index: 1527814 entries, 0 to 428075\n",
      "Data columns (total 11 columns):\n",
      " #   Column             Non-Null Count    Dtype  \n",
      "---  ------             --------------    -----  \n",
      " 0   mains_1            1527814 non-null  float64\n",
      " 1   mains_2            1527814 non-null  float64\n",
      " 2   mains_1_roll_mean  1527814 non-null  float64\n",
      " 3   mains_1_roll_max   1527814 non-null  float64\n",
      " 4   mains_1_roll_min   1527814 non-null  float64\n",
      " 5   mains_1_roll_var   1527814 non-null  float64\n",
      " 6   mains_2_roll_mean  1527814 non-null  float64\n",
      " 7   mains_2_roll_max   1527814 non-null  float64\n",
      " 8   mains_2_roll_min   1527814 non-null  float64\n",
      " 9   mains_2_roll_var   1527814 non-null  float64\n",
      " 10  main1_main2_cov    1527814 non-null  float64\n",
      "dtypes: float64(11)\n",
      "memory usage: 139.9 MB\n"
     ]
    }
   ],
   "source": [
    "dishwaser_df_train.info()"
   ]
  },
  {
   "cell_type": "code",
   "execution_count": 77,
   "id": "c177158b",
   "metadata": {},
   "outputs": [
    {
     "name": "stdout",
     "output_type": "stream",
     "text": [
      "<class 'pandas.core.frame.DataFrame'>\n",
      "Int64Index: 269643 entries, 0 to 192191\n",
      "Data columns (total 11 columns):\n",
      " #   Column             Non-Null Count   Dtype  \n",
      "---  ------             --------------   -----  \n",
      " 0   mains_1            269643 non-null  float64\n",
      " 1   mains_2            269643 non-null  float64\n",
      " 2   mains_1_roll_mean  269643 non-null  float64\n",
      " 3   mains_1_roll_max   269643 non-null  float64\n",
      " 4   mains_1_roll_min   269643 non-null  float64\n",
      " 5   mains_1_roll_var   269643 non-null  float64\n",
      " 6   mains_2_roll_mean  269643 non-null  float64\n",
      " 7   mains_2_roll_max   269643 non-null  float64\n",
      " 8   mains_2_roll_min   269643 non-null  float64\n",
      " 9   mains_2_roll_var   269643 non-null  float64\n",
      " 10  main1_main2_cov    269643 non-null  float64\n",
      "dtypes: float64(11)\n",
      "memory usage: 24.7 MB\n"
     ]
    }
   ],
   "source": [
    "dishwaser_df_test.info()"
   ]
  },
  {
   "cell_type": "code",
   "execution_count": 78,
   "id": "eaccb03f",
   "metadata": {},
   "outputs": [
    {
     "name": "stderr",
     "output_type": "stream",
     "text": [
      "/Users/rijulvohra/opt/anaconda3/envs/practicum/lib/python3.7/site-packages/ipykernel_launcher.py:2: DataConversionWarning: A column-vector y was passed when a 1d array was expected. Please change the shape of y to (n_samples,), for example using ravel().\n",
      "  \n"
     ]
    }
   ],
   "source": [
    "model = RandomForestRegressor(n_estimators=100)\n",
    "model.fit(dishwaser_df_train, dishwaser_train_labels)\n",
    "dishwaser_pred = model.predict(dishwaser_df_test)"
   ]
  },
  {
   "cell_type": "code",
   "execution_count": 85,
   "id": "f6829468",
   "metadata": {},
   "outputs": [],
   "source": [
    "dishwaser_train_pred = model.predict(dishwaser_df_train)"
   ]
  },
  {
   "cell_type": "code",
   "execution_count": 103,
   "id": "7298ca8b",
   "metadata": {},
   "outputs": [
    {
     "name": "stdout",
     "output_type": "stream",
     "text": [
      "RMSE on train set for dishwasher is 4.602945035140761\n",
      "RMSE on test set for dishwasher is 73.93046231918974\n"
     ]
    }
   ],
   "source": [
    "print(\"RMSE on train set for dishwasher is {}\".format(mean_squared_error(dishwaser_train_labels, dishwaser_train_pred, squared=False)))\n",
    "print(\"RMSE on test set for dishwasher is {}\".format(mean_squared_error(dishwaser_test_labels, dishwaser_pred, squared=False)))"
   ]
  },
  {
   "cell_type": "code",
   "execution_count": 93,
   "id": "29c11eea",
   "metadata": {},
   "outputs": [
    {
     "name": "stdout",
     "output_type": "stream",
     "text": [
      "Feature: mains_1, Score: 0.0225660593823119\n",
      "Feature: mains_2, Score: 0.031823360503918194\n",
      "Feature: mains_1_roll_mean, Score: 0.3164467448123172\n",
      "Feature: mains_1_roll_max, Score: 0.03165268465625587\n",
      "Feature: mains_1_roll_min, Score: 0.0989763218874175\n",
      "Feature: mains_1_roll_var, Score: 0.0230990225312848\n",
      "Feature: mains_2_roll_mean, Score: 0.018133702546762973\n",
      "Feature: mains_2_roll_max, Score: 0.051853878033894726\n",
      "Feature: mains_2_roll_min, Score: 0.3563935677799134\n",
      "Feature: mains_2_roll_var, Score: 0.043409814527183455\n",
      "Feature: main1_main2_cov, Score: 0.005644843338739976\n"
     ]
    },
    {
     "data": {
      "image/png": "[encoded data removed]",
      "text/plain": [
       "<Figure size 1440x720 with 1 Axes>"
      ]
     },
     "metadata": {
      "needs_background": "light"
     },
     "output_type": "display_data"
    }
   ],
   "source": [
    "plt.rcParams[\"figure.figsize\"] = (20,10)\n",
    "importance = model.feature_importances_\n",
    "# summarize feature importance\n",
    "for i,v in enumerate(list(zip(features,importance))):\n",
    "    print('Feature: {}, Score: {}'.format(v[0],v[1]))\n",
    "# plot feature importance\n",
    "plt.bar(features, importance)\n",
    "plt.show()"
   ]
  },
  {
   "cell_type": "code",
   "execution_count": 90,
   "id": "45c2b80a",
   "metadata": {},
   "outputs": [
    {
     "name": "stdout",
     "output_type": "stream",
     "text": [
      "[0.02256606 0.03182336 0.31644674 0.03165268 0.09897632 0.02309902\n",
      " 0.0181337  0.05185388 0.35639357 0.04340981 0.00564484]\n"
     ]
    }
   ],
   "source": [
    "print(importance)"
   ]
  },
  {
   "cell_type": "markdown",
   "id": "21bf897e",
   "metadata": {},
   "source": [
    "### Train a Baseline model for Refrigerator"
   ]
  },
  {
   "cell_type": "code",
   "execution_count": 94,
   "id": "04ec0e74",
   "metadata": {},
   "outputs": [
    {
     "name": "stdout",
     "output_type": "stream",
     "text": [
      "Shape of train and test is (1099738, 14) and (269643, 14)\n"
     ]
    }
   ],
   "source": [
    "df_train_ref = pd.concat([house_df['house_{}'.format(i)] for i in range(1,4)])\n",
    "df_test_ref = pd.concat([house_df['house_{}'.format(i)] for i in range(5,7)])\n",
    "print('Shape of train and test is {} and {}'.format(df_train_ref.shape, df_test_ref.shape))"
   ]
  },
  {
   "cell_type": "code",
   "execution_count": 95,
   "id": "c90de28d",
   "metadata": {},
   "outputs": [],
   "source": [
    "features = ['mains_1', 'mains_2', 'mains_1_roll_mean', 'mains_1_roll_max',\n",
    "           'mains_1_roll_min', 'mains_1_roll_var', 'mains_2_roll_mean', \n",
    "           'mains_2_roll_max', 'mains_2_roll_min', 'mains_2_roll_var',\n",
    "           'main1_main2_cov']\n",
    "label = ['refrigerator']\n",
    "\n",
    "refrigerator_df_train = df_train_ref[features]\n",
    "refrigerator_train_labels = df_train_ref[label]\n",
    "\n",
    "refrigerator_df_test = df_test_ref[features]\n",
    "refrigerator_test_labels = df_test_ref[label]"
   ]
  },
  {
   "cell_type": "code",
   "execution_count": 96,
   "id": "f217ff47",
   "metadata": {},
   "outputs": [
    {
     "name": "stdout",
     "output_type": "stream",
     "text": [
      "<class 'pandas.core.frame.DataFrame'>\n",
      "Int64Index: 1099738 entries, 0 to 376149\n",
      "Data columns (total 11 columns):\n",
      " #   Column             Non-Null Count    Dtype  \n",
      "---  ------             --------------    -----  \n",
      " 0   mains_1            1099738 non-null  float64\n",
      " 1   mains_2            1099738 non-null  float64\n",
      " 2   mains_1_roll_mean  1099738 non-null  float64\n",
      " 3   mains_1_roll_max   1099738 non-null  float64\n",
      " 4   mains_1_roll_min   1099738 non-null  float64\n",
      " 5   mains_1_roll_var   1099738 non-null  float64\n",
      " 6   mains_2_roll_mean  1099738 non-null  float64\n",
      " 7   mains_2_roll_max   1099738 non-null  float64\n",
      " 8   mains_2_roll_min   1099738 non-null  float64\n",
      " 9   mains_2_roll_var   1099738 non-null  float64\n",
      " 10  main1_main2_cov    1099738 non-null  float64\n",
      "dtypes: float64(11)\n",
      "memory usage: 100.7 MB\n"
     ]
    }
   ],
   "source": [
    "refrigerator_df_train.info()"
   ]
  },
  {
   "cell_type": "code",
   "execution_count": 97,
   "id": "b1311b5e",
   "metadata": {},
   "outputs": [
    {
     "name": "stdout",
     "output_type": "stream",
     "text": [
      "<class 'pandas.core.frame.DataFrame'>\n",
      "Int64Index: 269643 entries, 0 to 192191\n",
      "Data columns (total 11 columns):\n",
      " #   Column             Non-Null Count   Dtype  \n",
      "---  ------             --------------   -----  \n",
      " 0   mains_1            269643 non-null  float64\n",
      " 1   mains_2            269643 non-null  float64\n",
      " 2   mains_1_roll_mean  269643 non-null  float64\n",
      " 3   mains_1_roll_max   269643 non-null  float64\n",
      " 4   mains_1_roll_min   269643 non-null  float64\n",
      " 5   mains_1_roll_var   269643 non-null  float64\n",
      " 6   mains_2_roll_mean  269643 non-null  float64\n",
      " 7   mains_2_roll_max   269643 non-null  float64\n",
      " 8   mains_2_roll_min   269643 non-null  float64\n",
      " 9   mains_2_roll_var   269643 non-null  float64\n",
      " 10  main1_main2_cov    269643 non-null  float64\n",
      "dtypes: float64(11)\n",
      "memory usage: 24.7 MB\n"
     ]
    }
   ],
   "source": [
    "refrigerator_df_test.info()"
   ]
  },
  {
   "cell_type": "code",
   "execution_count": 98,
   "id": "47479fa4",
   "metadata": {},
   "outputs": [
    {
     "name": "stderr",
     "output_type": "stream",
     "text": [
      "/Users/rijulvohra/opt/anaconda3/envs/practicum/lib/python3.7/site-packages/ipykernel_launcher.py:2: DataConversionWarning: A column-vector y was passed when a 1d array was expected. Please change the shape of y to (n_samples,), for example using ravel().\n",
      "  \n"
     ]
    },
    {
     "name": "stdout",
     "output_type": "stream",
     "text": [
      "CPU times: user 24min 7s, sys: 4.2 s, total: 24min 11s\n",
      "Wall time: 24min 14s\n"
     ]
    }
   ],
   "source": [
    "%%time\n",
    "ref_model = RandomForestRegressor(n_estimators=100)\n",
    "ref_model.fit(refrigerator_df_train, refrigerator_train_labels)\n",
    "refrigerator_pred = ref_model.predict(refrigerator_df_test)"
   ]
  },
  {
   "cell_type": "code",
   "execution_count": 99,
   "id": "b17c4df2",
   "metadata": {},
   "outputs": [],
   "source": [
    "refrigerator_train_pred = ref_model.predict(refrigerator_df_train)"
   ]
  },
  {
   "cell_type": "code",
   "execution_count": 102,
   "id": "94b4879f",
   "metadata": {},
   "outputs": [
    {
     "name": "stdout",
     "output_type": "stream",
     "text": [
      "RMSE on train set for refrigerator is 7.528039425929213\n",
      "RMSE on test set for refrigerator is 82.98403059804683\n"
     ]
    }
   ],
   "source": [
    "print(\"RMSE on train set for refrigerator is {}\".format(mean_squared_error(refrigerator_train_labels, refrigerator_train_pred, squared=False)))\n",
    "print(\"RMSE on test set for refrigerator is {}\".format(mean_squared_error(refrigerator_test_labels, refrigerator_pred, squared=False)))"
   ]
  },
  {
   "cell_type": "code",
   "execution_count": 101,
   "id": "5eab47af",
   "metadata": {},
   "outputs": [
    {
     "name": "stdout",
     "output_type": "stream",
     "text": [
      "Feature: mains_1, Score: 0.30752669044852426\n",
      "Feature: mains_2, Score: 0.2703946470160387\n",
      "Feature: mains_1_roll_mean, Score: 0.03376380633995469\n",
      "Feature: mains_1_roll_max, Score: 0.027455007143444964\n",
      "Feature: mains_1_roll_min, Score: 0.13017092074548364\n",
      "Feature: mains_1_roll_var, Score: 0.02304809640532901\n",
      "Feature: mains_2_roll_mean, Score: 0.0306746497077158\n",
      "Feature: mains_2_roll_max, Score: 0.03830375173547409\n",
      "Feature: mains_2_roll_min, Score: 0.11115121088303553\n",
      "Feature: mains_2_roll_var, Score: 0.017196862213223963\n",
      "Feature: main1_main2_cov, Score: 0.010314357361775432\n"
     ]
    },
    {
     "data": {
      "image/png": "[encoded data removed]",
      "text/plain": [
       "<Figure size 1440x720 with 1 Axes>"
      ]
     },
     "metadata": {
      "needs_background": "light"
     },
     "output_type": "display_data"
    }
   ],
   "source": [
    "plt.rcParams[\"figure.figsize\"] = (20,10)\n",
    "importance = ref_model.feature_importances_\n",
    "# summarize feature importance\n",
    "for i,v in enumerate(list(zip(features,importance))):\n",
    "    print('Feature: {}, Score: {}'.format(v[0],v[1]))\n",
    "# plot feature importance\n",
    "plt.bar(features, importance)\n",
    "plt.show()"
   ]
  },
  {
   "cell_type": "code",
   "execution_count": null,
   "id": "48650fc7",
   "metadata": {},
   "outputs": [],
   "source": []
  }
 ],
 "metadata": {
  "kernelspec": {
   "display_name": "Python 3",
   "language": "python",
   "name": "python3"
  },
  "language_info": {
   "codemirror_mode": {
    "name": "ipython",
    "version": 3
   },
   "file_extension": ".py",
   "mimetype": "text/x-python",
   "name": "python",
   "nbconvert_exporter": "python",
   "pygments_lexer": "ipython3",
   "version": "3.7.10"
  }
 },
 "nbformat": 4,
 "nbformat_minor": 5
}
